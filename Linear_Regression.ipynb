{
  "nbformat": 4,
  "nbformat_minor": 0,
  "metadata": {
    "colab": {
      "name": "Linear_Regression_Coding_Exercise.ipynb",
      "provenance": [],
      "collapsed_sections": []
    },
    "kernelspec": {
      "name": "python3",
      "display_name": "Python 3"
    },
    "language_info": {
      "name": "python"
    }
  },
  "cells": [
    {
      "cell_type": "markdown",
      "source": [
        "# Linear Regression "
      ],
      "metadata": {
        "id": "PVdl71mtGl43"
      }
    },
    {
      "cell_type": "code",
      "metadata": {
        "id": "J4lGEXuxK3Lw"
      },
      "source": [
        "# Author: Alexander Le\n",
        "# Date: April 27th, 2022\n",
        "\n",
        "# import\n",
        "import numpy as np\n",
        "from sklearn import datasets\n",
        "from sklearn.linear_model import LinearRegression\n",
        "from sklearn.model_selection import train_test_split\n",
        "from sklearn.metrics import r2_score, mean_squared_error\n",
        "import matplotlib.pyplot as plt"
      ],
      "execution_count": 2,
      "outputs": []
    },
    {
      "cell_type": "markdown",
      "metadata": {
        "id": "9ebN4HScWbJB"
      },
      "source": [
        "**Data Creation and Preprocessing**"
      ]
    },
    {
      "cell_type": "code",
      "metadata": {
        "id": "QO4CLM5LLuwA"
      },
      "source": [
        "num_data = 300\n",
        "X = np.linspace(0, 50, num_data)\n",
        "noise = 15 * np.random.randn(num_data) \n",
        "y = 4 * X + 14 + noise"
      ],
      "execution_count": 3,
      "outputs": []
    },
    {
      "cell_type": "code",
      "metadata": {
        "id": "GasCEr25pvzY"
      },
      "source": [
        "# Split and Preprocess Data\n",
        "X_train, X_test, y_train, y_test = train_test_split(X, y, test_size=0.2, shuffle=True) # shuffle is set to True by default\n",
        "X_train = X_train.reshape(-1, 1)\n",
        "X_test = X_test.reshape(-1, 1)"
      ],
      "execution_count": 4,
      "outputs": []
    },
    {
      "cell_type": "code",
      "metadata": {
        "id": "fJoEYDGQp2Qg",
        "colab": {
          "base_uri": "https://localhost:8080/",
          "height": 283
        },
        "outputId": "6ab59a7a-ae9b-4c7c-ee96-5f64c22198d0"
      },
      "source": [
        "# Visualize Data\n",
        "plt.scatter(X_train, y_train, color='blue', label='Training', alpha=0.5)\n",
        "plt.scatter(X_test, y_test, color='red', label='Testing', alpha=0.5)\n",
        "plt.legend()"
      ],
      "execution_count": 5,
      "outputs": [
        {
          "output_type": "execute_result",
          "data": {
            "text/plain": [
              "<matplotlib.legend.Legend at 0x7fac46a7db10>"
            ]
          },
          "metadata": {},
          "execution_count": 5
        },
        {
          "output_type": "display_data",
          "data": {
            "text/plain": [
              "<Figure size 432x288 with 1 Axes>"
            ],
            "image/png": "[encoded data removed]"
          },
          "metadata": {
            "needs_background": "light"
          }
        }
      ]
    },
    {
      "cell_type": "markdown",
      "metadata": {
        "id": "h_WlgfL9Xv-T"
      },
      "source": [
        "**Training the Model**"
      ]
    },
    {
      "cell_type": "code",
      "metadata": {
        "id": "hqrWSJtfq4NA"
      },
      "source": [
        "# Fit Model\n",
        "model = LinearRegression().fit(X_train, y_train)"
      ],
      "execution_count": 6,
      "outputs": []
    },
    {
      "cell_type": "code",
      "metadata": {
        "id": "RS2KAQARsdrJ",
        "colab": {
          "base_uri": "https://localhost:8080/"
        },
        "outputId": "b41ad4e9-b7a4-45eb-fa19-b00ea8dcc5cf"
      },
      "source": [
        "# Check Model's Params\n",
        "print(\"Model weights: {}\".format(model.coef_))\n",
        "print(\"Model bias: {}\".format(model.intercept_))"
      ],
      "execution_count": 7,
      "outputs": [
        {
          "output_type": "stream",
          "name": "stdout",
          "text": [
            "Model weights: [4.01183674]\n",
            "Model bias: 15.657041799692479\n"
          ]
        }
      ]
    },
    {
      "cell_type": "code",
      "metadata": {
        "id": "TaS5dJfwVIUc",
        "colab": {
          "base_uri": "https://localhost:8080/"
        },
        "outputId": "eb5e1395-6967-4099-8907-2d156be58b92"
      },
      "source": [
        "# Evaluate model on test data\n",
        "r2 = model.score(X_test, y_test)\n",
        "print(\"r2 score: {}\".format(r2))"
      ],
      "execution_count": 8,
      "outputs": [
        {
          "output_type": "stream",
          "name": "stdout",
          "text": [
            "r2 score: 0.9332798002667404\n"
          ]
        }
      ]
    },
    {
      "cell_type": "code",
      "metadata": {
        "id": "Okk7fs6jvlyq",
        "colab": {
          "base_uri": "https://localhost:8080/"
        },
        "outputId": "a0625252-3147-4b4c-f89b-f2bf80742d2a"
      },
      "source": [
        "# Compute MSE loss on test data\n",
        "y_pred = model.predict(X_test)\n",
        "mse = mean_squared_error(y_test, y_pred)\n",
        "\n",
        "print(\"Mean Squared Error: {}\".format(mse))"
      ],
      "execution_count": 9,
      "outputs": [
        {
          "output_type": "stream",
          "name": "stdout",
          "text": [
            "Mean Squared Error: 217.93746748084175\n"
          ]
        }
      ]
    },
    {
      "cell_type": "code",
      "metadata": {
        "id": "A3cdCT-vtcQO",
        "colab": {
          "base_uri": "https://localhost:8080/",
          "height": 283
        },
        "outputId": "f7f75ae8-5378-4076-c83b-3f52885d177e"
      },
      "source": [
        "# Plot best fit line\n",
        "plt.scatter(X_train, y_train, color='c', label='Training', alpha=0.5)\n",
        "plt.scatter(X_test, y_test, color='royalblue', label='Testing', alpha=0.5)\n",
        "X_axis = np.linspace(0, 50, num_data).reshape(-1, 1)\n",
        "y_axis = model.predict(X_axis)\n",
        "plt.plot(X_axis, y_axis, color='red', label='Fit')\n",
        "plt.legend()"
      ],
      "execution_count": 10,
      "outputs": [
        {
          "output_type": "execute_result",
          "data": {
            "text/plain": [
              "<matplotlib.legend.Legend at 0x7fac46546a10>"
            ]
          },
          "metadata": {},
          "execution_count": 10
        },
        {
          "output_type": "display_data",
          "data": {
            "text/plain": [
              "<Figure size 432x288 with 1 Axes>"
            ],
            "image/png": "[encoded data removed]"
          },
          "metadata": {
            "needs_background": "light"
          }
        }
      ]
    },
    {
      "cell_type": "markdown",
      "metadata": {
        "id": "8GInqyZ3xLRa"
      },
      "source": [
        "**Real Dataset with Higher Dimensions Example (Feel free to skip if running short on time)**"
      ]
    },
    {
      "cell_type": "code",
      "metadata": {
        "id": "KLrBuuintld6"
      },
      "source": [
        "# Load Dataset\n",
        "diabetes_X, diabetes_y = datasets.load_diabetes(return_X_y=True)"
      ],
      "execution_count": 11,
      "outputs": []
    },
    {
      "cell_type": "code",
      "metadata": {
        "id": "6vNYjJSwtqDs"
      },
      "source": [
        "# Split Data\n",
        "X_train, X_test, y_train, y_test = train_test_split(diabetes_X, diabetes_y, test_size=0.2, shuffle=True)"
      ],
      "execution_count": 12,
      "outputs": []
    },
    {
      "cell_type": "code",
      "metadata": {
        "id": "bb0pm7Onx4-S"
      },
      "source": [
        "# Fit Model\n",
        "diabetes_model = LinearRegression().fit(X_train, y_train)"
      ],
      "execution_count": 13,
      "outputs": []
    },
    {
      "cell_type": "code",
      "metadata": {
        "id": "V7cLu2JlyXtQ",
        "colab": {
          "base_uri": "https://localhost:8080/"
        },
        "outputId": "1574e76d-9916-476b-e8f5-cf3db88be250"
      },
      "source": [
        "# Check Model's Params\n",
        "print(\"Model weights: {}\".format(diabetes_model.coef_))\n",
        "print(\"Model bias: {}\".format(diabetes_model.intercept_))"
      ],
      "execution_count": 14,
      "outputs": [
        {
          "output_type": "stream",
          "name": "stdout",
          "text": [
            "Model weights: [ -39.92734897 -237.4936903   505.87699706  286.10049696 -720.89556951\n",
            "  529.01243576   18.5853625    37.59165877  766.53967408   69.19090949]\n",
            "Model bias: 152.9792890268779\n"
          ]
        }
      ]
    },
    {
      "cell_type": "code",
      "metadata": {
        "id": "gGy54oZzywei",
        "colab": {
          "base_uri": "https://localhost:8080/"
        },
        "outputId": "cf6731bd-02e0-4e1c-c93c-36b22326692c"
      },
      "source": [
        "# Evaluate model on test data\n",
        "diabetes_r2 = diabetes_model.score(X_test, y_test)\n",
        "print(\"r2 score: {}\".format(diabetes_r2))"
      ],
      "execution_count": 15,
      "outputs": [
        {
          "output_type": "stream",
          "name": "stdout",
          "text": [
            "r2 score: 0.5345276615005901\n"
          ]
        }
      ]
    },
    {
      "cell_type": "code",
      "metadata": {
        "id": "qOPniSZJzAfj",
        "colab": {
          "base_uri": "https://localhost:8080/"
        },
        "outputId": "d1884be6-5a82-4949-9e24-ddc71f70378c"
      },
      "source": [
        "# Compute MSE loss on test data\n",
        "diabetes_pred = diabetes_model.predict(X_test)\n",
        "diabetes_mse = mean_squared_error(y_test, diabetes_pred)\n",
        "print(\"Mean Squared Error: {}\".format(diabetes_mse))"
      ],
      "execution_count": 16,
      "outputs": [
        {
          "output_type": "stream",
          "name": "stdout",
          "text": [
            "Mean Squared Error: 2931.8502449094963\n"
          ]
        }
      ]
    }
  ]
}