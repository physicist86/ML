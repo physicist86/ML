{
  "nbformat": 4,
  "nbformat_minor": 0,
  "metadata": {
    "colab": {
      "name": "Fern.ipynb",
      "provenance": [],
      "authorship_tag": "ABX9TyO1HEI7pS8RfxrhsmQVZrua",
      "include_colab_link": true
    },
    "kernelspec": {
      "name": "python3",
      "display_name": "Python 3"
    },
    "language_info": {
      "name": "python"
    }
  },
  "cells": [
    {
      "cell_type": "markdown",
      "metadata": {
        "id": "view-in-github",
        "colab_type": "text"
      },
      "source": [
        "<a href=\"https://colab.research.google.com/github/physicist86/ML/blob/main/Fern.ipynb\" target=\"_parent\"><img src=\"https://colab.research.google.com/assets/colab-badge.svg\" alt=\"Open In Colab\"/></a>"
      ]
    },
    {
      "cell_type": "markdown",
      "source": [
        ""
      ],
      "metadata": {
        "id": "6Bg7KrvPXRY5"
      }
    },
    {
      "cell_type": "code",
      "execution_count": 5,
      "metadata": {
        "colab": {
          "base_uri": "https://localhost:8080/",
          "height": 299
        },
        "id": "4KPOc-L3XQ4N",
        "outputId": "020410a8-2e87-4a75-9101-6bf5debea138"
      },
      "outputs": [
        {
          "name": "stdout",
          "output_type": "stream",
          "text": [
            "Set number of fern points: 50\n"
          ]
        },
        {
          "output_type": "display_data",
          "data": {
            "text/plain": [
              "<Figure size 432x288 with 1 Axes>"
            ],
            "image/png": "[encoded data removed]"
          },
          "metadata": {
            "needs_background": "light"
          }
        }
      ],
      "source": [
        "# Draw a Barnsley Fern\n",
        "# Author: Alexander Le\n",
        "# Date: May 30, 2022\n",
        "# Source:  ISBN-13: 978-1-59327-640-9, pg. 165-166\n",
        "import random\n",
        "import matplotlib.pyplot as plt\n",
        "\n",
        "# 0.85 probability\n",
        "def transformation_1(p):\n",
        "  x = p[0]\n",
        "  y = p[1]\n",
        "  x1 = 0.85*x + 0.04*y\n",
        "  y1 = -0.04*x + 0.85*y +1.6\n",
        "  return x1, y1\n",
        "\n",
        "# 0.07 probability\n",
        "def transformation_2(p):\n",
        "  x = p[0]\n",
        "  y = p[1]\n",
        "  x1 = 0.2*x + 0.26*y\n",
        "  y1 = 0.23*x + 0.22*y +1.6\n",
        "  return x1, y1\n",
        "\n",
        "# 0.07 probability\n",
        "def transformation_3(p):\n",
        "  x = p[0]\n",
        "  y = p[1]\n",
        "  x1 = -0.15*x + 0.28*y\n",
        "  y1 = 0.26*x + 0.24*y + 0.44\n",
        "  return x1, y1\n",
        "\n",
        "# 0.01 probability\n",
        "def transformation_4(p):\n",
        "  x = p[0]\n",
        "  y = p[1]\n",
        "  x1 = 0\n",
        "  y1 = 0.16*y\n",
        "  return x1, y1\n",
        "\n",
        "def get_index(probability):\n",
        "  r = random.random()\n",
        "  c_probability = 0\n",
        "  sum_probability = []\n",
        "  for p in probability:\n",
        "    c_probability += p\n",
        "    sum_probability.append(c_probability)\n",
        "  for item, sp in enumerate(sum_probability):\n",
        "    if r <= sp:\n",
        "      return item\n",
        "  return len(probability)-1\n",
        "\n",
        "def transform(p):\n",
        "  # Create a list of the transformation functions\n",
        "  transformations = [transformation_1, transformation_2, transformation_3, transformation_4]\n",
        "  probability = [0.85, 0.07, 0.07, 0.01]\n",
        "  # randomly get t(p)\n",
        "  tindex = get_index(probability)\n",
        "  t = transformations[tindex]\n",
        "  x, y = t(p)\n",
        "  return x, y\n",
        "\n",
        "def draw_fern(n):\n",
        "  # Start position at (0, 0)\n",
        "  x = [0]\n",
        "  y = [0]\n",
        "\n",
        "  x1, y1 = 0,0\n",
        "  for i in range (n):\n",
        "    x1, y1 = transform((x1, y1))\n",
        "\n",
        "    x.append(x1)\n",
        "    y.append(y1)\n",
        "\n",
        "  return x, y\n",
        "\n",
        "if __name__ == '__main__':\n",
        "  n = int(input('Set number of fern points: '))\n",
        "  x, y = draw_fern(n)\n",
        "  # plot\n",
        "  plt.plot(x,y,'o')\n",
        "  plt.title('Fern with {0} points'.format(n))\n",
        "  plt.show()"
      ]
    }
  ]
}