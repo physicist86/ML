{
  "nbformat": 4,
  "nbformat_minor": 0,
  "metadata": {
    "colab": {
      "name": "Demo_Logistic_Regression.ipynb",
      "provenance": [],
      "collapsed_sections": []
    },
    "kernelspec": {
      "name": "python3",
      "display_name": "Python 3"
    },
    "language_info": {
      "name": "python"
    }
  },
  "cells": [
    {
      "cell_type": "markdown",
      "source": [
        "# Logistic Regression"
      ],
      "metadata": {
        "id": "I1VDaluaHvuc"
      }
    },
    {
      "cell_type": "code",
      "metadata": {
        "id": "YHqbCR6H0Fb7"
      },
      "source": [
        "# Author: Alexander Le\n",
        "# Date: April 27th, 2022\n",
        "\n",
        "import numpy as np\n",
        "import matplotlib.pyplot as plt\n",
        "from sklearn.model_selection import train_test_split\n",
        "from sklearn.linear_model import LogisticRegression\n",
        "from sklearn.datasets import load_iris"
      ],
      "execution_count": null,
      "outputs": []
    },
    {
      "cell_type": "code",
      "metadata": {
        "id": "NZlxk6Zx0hIa"
      },
      "source": [
        "# load the iris dataset\n",
        "# https://scikit-learn.org/stable/modules/generated/sklearn.datasets.load_iris.html\n",
        "X, y = load_iris(return_X_y=True)"
      ],
      "execution_count": null,
      "outputs": []
    },
    {
      "cell_type": "code",
      "metadata": {
        "colab": {
          "base_uri": "https://localhost:8080/"
        },
        "id": "o-8Hb-Gc1alm",
        "outputId": "bf8630d9-5134-47df-f239-145a345ddc29"
      },
      "source": [
        "print('X has shape:', X.shape)\n",
        "print('y has shape:', y.shape)"
      ],
      "execution_count": null,
      "outputs": [
        {
          "output_type": "stream",
          "name": "stdout",
          "text": [
            "X has shape: (150, 4)\n",
            "y has shape: (150,)\n"
          ]
        }
      ]
    },
    {
      "cell_type": "code",
      "metadata": {
        "colab": {
          "base_uri": "https://localhost:8080/"
        },
        "id": "rUCqcsPQBA2Y",
        "outputId": "0711157e-c132-46a4-d09e-4ee814b7ccbd"
      },
      "source": [
        "# drop the last 2 features (we'll work in 2D for now)\n",
        "X = X[:, :2]\n",
        "print('X has shape:', X.shape)"
      ],
      "execution_count": null,
      "outputs": [
        {
          "output_type": "stream",
          "name": "stdout",
          "text": [
            "X has shape: (150, 2)\n"
          ]
        }
      ]
    },
    {
      "cell_type": "code",
      "metadata": {
        "colab": {
          "base_uri": "https://localhost:8080/"
        },
        "id": "xQ1RxR7UlImr",
        "outputId": "c4514a69-19af-4d5f-d447-9c681aadbdcb"
      },
      "source": [
        "y"
      ],
      "execution_count": null,
      "outputs": [
        {
          "output_type": "execute_result",
          "data": {
            "text/plain": [
              "array([0, 0, 0, 0, 0, 0, 0, 0, 0, 0, 0, 0, 0, 0, 0, 0, 0, 0, 0, 0, 0, 0,\n",
              "       0, 0, 0, 0, 0, 0, 0, 0, 0, 0, 0, 0, 0, 0, 0, 0, 0, 0, 0, 0, 0, 0,\n",
              "       0, 0, 0, 0, 0, 0, 1, 1, 1, 1, 1, 1, 1, 1, 1, 1, 1, 1, 1, 1, 1, 1,\n",
              "       1, 1, 1, 1, 1, 1, 1, 1, 1, 1, 1, 1, 1, 1, 1, 1, 1, 1, 1, 1, 1, 1,\n",
              "       1, 1, 1, 1, 1, 1, 1, 1, 1, 1, 1, 1, 2, 2, 2, 2, 2, 2, 2, 2, 2, 2,\n",
              "       2, 2, 2, 2, 2, 2, 2, 2, 2, 2, 2, 2, 2, 2, 2, 2, 2, 2, 2, 2, 2, 2,\n",
              "       2, 2, 2, 2, 2, 2, 2, 2, 2, 2, 2, 2, 2, 2, 2, 2, 2, 2])"
            ]
          },
          "metadata": {},
          "execution_count": 5
        }
      ]
    },
    {
      "cell_type": "markdown",
      "metadata": {
        "id": "_VkoeKYz1Iz8"
      },
      "source": [
        "# Let's tackle binary classification first"
      ]
    },
    {
      "cell_type": "code",
      "metadata": {
        "id": "Gvnw4P6J0ss3"
      },
      "source": [
        "def convert_to_binary(X, y):\n",
        "  y01 = (y != 2)\n",
        "  X = X[y01, :]\n",
        "  y = y[y01]\n",
        "  return X, y"
      ],
      "execution_count": null,
      "outputs": []
    },
    {
      "cell_type": "code",
      "metadata": {
        "colab": {
          "base_uri": "https://localhost:8080/"
        },
        "id": "PRtK478f1uoP",
        "outputId": "78c6a102-69ef-43ca-f6f5-f7e84843ad7f"
      },
      "source": [
        "# call convert_to_binary on X, y - 1 line\n",
        "X_bin, y_bin = convert_to_binary(X, y)\n",
        "print('X_bin has shape:', X_bin.shape)\n",
        "print('y_bin has shape:', y_bin.shape)"
      ],
      "execution_count": null,
      "outputs": [
        {
          "output_type": "stream",
          "name": "stdout",
          "text": [
            "X_bin has shape: (100, 2)\n",
            "y_bin has shape: (100,)\n"
          ]
        }
      ]
    },
    {
      "cell_type": "code",
      "metadata": {
        "id": "gPTEzmcX5qp-"
      },
      "source": [
        "def plot_data(X, y):\n",
        "  y0 = (y == 0)\n",
        "  y1 = (y == 1)\n",
        "\n",
        "  plt.figure(figsize=[8, 6])\n",
        "  plt.xlabel('sepal length (cm)')\n",
        "  plt.ylabel('sepal width (cm)')\n",
        "  plt.scatter(X[y0, 0], X[y0, 1], c='b', label='Class 0')\n",
        "  plt.scatter(X[y1, 0], X[y1, 1], c='r', label='Class 1')\n",
        "  plt.legend()"
      ],
      "execution_count": null,
      "outputs": []
    },
    {
      "cell_type": "code",
      "metadata": {
        "colab": {
          "base_uri": "https://localhost:8080/",
          "height": 390
        },
        "id": "CEk1-SCMBmFa",
        "outputId": "6d9c0fd8-5b31-43df-fe81-1d2e7a54e6ac"
      },
      "source": [
        "# plot_data on X_bin, y_binS\n",
        "plot_data(X_bin, y_bin)"
      ],
      "execution_count": null,
      "outputs": [
        {
          "output_type": "display_data",
          "data": {
            "image/png": "[encoded data removed]",
            "text/plain": [
              "<Figure size 576x432 with 1 Axes>"
            ]
          },
          "metadata": {
            "needs_background": "light"
          }
        }
      ]
    },
    {
      "cell_type": "code",
      "metadata": {
        "id": "i_z2ZrMc6g29"
      },
      "source": [
        "# split data into train and test data\n",
        "# https://scikit-learn.org/stable/modules/generated/sklearn.model_selection.train_test_split.html\n",
        "X_train, X_test, y_train, y_test = train_test_split(X_bin, y_bin, test_size=0.2, random_state=42)"
      ],
      "execution_count": null,
      "outputs": []
    },
    {
      "cell_type": "code",
      "metadata": {
        "id": "uklUwqg87Dkj"
      },
      "source": [
        "# fit the logistic regression to X_train, y_train\n",
        "# https://scikit-learn.org/stable/modules/generated/sklearn.linear_model.LogisticRegression.html\n",
        "log_reg = LogisticRegression().fit(X_train, y_train)"
      ],
      "execution_count": null,
      "outputs": []
    },
    {
      "cell_type": "code",
      "metadata": {
        "colab": {
          "base_uri": "https://localhost:8080/"
        },
        "id": "-mhR1oYf7pkc",
        "outputId": "396d3b5f-3081-4ed4-ec07-739a770816ea"
      },
      "source": [
        "# print accuarcy on test data\n",
        "acc = log_reg.score(X_test, y_test)\n",
        "print('Test accuracy:', acc)"
      ],
      "execution_count": null,
      "outputs": [
        {
          "output_type": "stream",
          "name": "stdout",
          "text": [
            "Test accuracy: 1.0\n"
          ]
        }
      ]
    },
    {
      "cell_type": "code",
      "metadata": {
        "colab": {
          "base_uri": "https://localhost:8080/"
        },
        "id": "hckpgCdu9NBg",
        "outputId": "aa947043-ce0b-472d-f16e-b6ffd7ae2ce5"
      },
      "source": [
        "# get model weights\n",
        "log_reg.coef_"
      ],
      "execution_count": null,
      "outputs": [
        {
          "output_type": "execute_result",
          "data": {
            "text/plain": [
              "array([[ 2.88868978, -2.72919824]])"
            ]
          },
          "metadata": {},
          "execution_count": 14
        }
      ]
    },
    {
      "cell_type": "code",
      "metadata": {
        "colab": {
          "base_uri": "https://localhost:8080/"
        },
        "id": "8Abavmp39mVC",
        "outputId": "7002c785-22aa-4194-f117-b976a9f18370"
      },
      "source": [
        "# get model bias\n",
        "log_reg.intercept_"
      ],
      "execution_count": null,
      "outputs": [
        {
          "output_type": "execute_result",
          "data": {
            "text/plain": [
              "array([-7.07994242])"
            ]
          },
          "metadata": {},
          "execution_count": 15
        }
      ]
    },
    {
      "cell_type": "code",
      "metadata": {
        "colab": {
          "base_uri": "https://localhost:8080/",
          "height": 407
        },
        "id": "ZOScGxRS9TQK",
        "outputId": "8999b08c-8963-4015-ca1f-6939c92dc070"
      },
      "source": [
        "# plot decision boundary of model\n",
        "plot_data(X_bin, y_bin)\n",
        "slope = - (log_reg.coef_[:, 0]/log_reg.coef_[:, 1])\n",
        "intercept = - (log_reg.intercept_[0]/log_reg.coef_[:, 1])\n",
        "X_plot = np.arange(4, 8)\n",
        "y_plot = slope * X_plot + intercept\n",
        "\n",
        "# plot X_plot, y_plot with plt.plot()\n",
        "# https://matplotlib.org/stable/api/_as_gen/matplotlib.pyplot.plot.html\n",
        "plt.plot(X_plot, y_plot, c='black', label='decision boundary')\n",
        "plt.legend()"
      ],
      "execution_count": null,
      "outputs": [
        {
          "output_type": "execute_result",
          "data": {
            "text/plain": [
              "<matplotlib.legend.Legend at 0x7fb011d00590>"
            ]
          },
          "metadata": {},
          "execution_count": 16
        },
        {
          "output_type": "display_data",
          "data": {
            "image/png": "[encoded data removed]",
            "text/plain": [
              "<Figure size 576x432 with 1 Axes>"
            ]
          },
          "metadata": {
            "needs_background": "light"
          }
        }
      ]
    },
    {
      "cell_type": "markdown",
      "metadata": {
        "id": "ay06URJ-AsMH"
      },
      "source": [
        "# Success!"
      ]
    }
  ]
}