{
  "nbformat": 4,
  "nbformat_minor": 0,
  "metadata": {
    "colab": {
      "name": "LinearRegression.ipynb",
      "provenance": [],
      "collapsed_sections": []
    },
    "kernelspec": {
      "name": "python3",
      "display_name": "Python 3"
    },
    "language_info": {
      "name": "python"
    }
  },
  "cells": [
    {
      "cell_type": "markdown",
      "source": [
        "#Linear Regression"
      ],
      "metadata": {
        "id": "I8HdHD5G2Gb5"
      }
    },
    {
      "cell_type": "code",
      "execution_count": 2,
      "metadata": {
        "id": "qwst3paS1l6m"
      },
      "outputs": [],
      "source": [
        "# Author: Alexander Le\n",
        "# Date: April 24, 2022\n",
        "\n",
        "import matplotlib.pyplot as plt\n",
        "import numpy as np\n",
        "from sklearn.model_selection import train_test_split\n",
        "from sklearn.datasets import load_boston\n",
        "from sklearn.metrics import r2_score"
      ]
    },
    {
      "cell_type": "code",
      "source": [
        "# Set random seed\n",
        "np.random.seed(0)"
      ],
      "metadata": {
        "id": "IDDgmqvr2eby"
      },
      "execution_count": 5,
      "outputs": []
    },
    {
      "cell_type": "markdown",
      "source": [
        "$f(x) =\\pi{x} +10$"
      ],
      "metadata": {
        "id": "8rPxMUeq260I"
      }
    },
    {
      "cell_type": "code",
      "source": [
        "#f(x) = pi(x)+10\n",
        "\n",
        "def f(x):\n",
        "    return np.pi*x +10\n",
        "  \n",
        "def f_with_noise(x):\n",
        "    return f(x) + np.random.normal(0,20,size=x.shape)"
      ],
      "metadata": {
        "id": "iHn9_WTt2ltH"
      },
      "execution_count": 6,
      "outputs": []
    },
    {
      "cell_type": "code",
      "source": [
        "# Generatae 100 data from [0,100) for x\n",
        "X = np.arange(0,100)\n",
        "y = f_with_noise(X)"
      ],
      "metadata": {
        "id": "lVvwYnEW25Oo"
      },
      "execution_count": 7,
      "outputs": []
    },
    {
      "cell_type": "code",
      "source": [
        "# Plot\n",
        "plt.figure(figsize=[8,6])\n",
        "plt.scatter(X, y, alpha = 0.5)"
      ],
      "metadata": {
        "colab": {
          "base_uri": "https://localhost:8080/",
          "height": 392
        },
        "id": "gNIUC5bN3Y9k",
        "outputId": "95e07868-e51c-4821-b8a5-0f125ca8510d"
      },
      "execution_count": 8,
      "outputs": [
        {
          "output_type": "execute_result",
          "data": {
            "text/plain": [
              "<matplotlib.collections.PathCollection at 0x7f43b658abd0>"
            ]
          },
          "metadata": {},
          "execution_count": 8
        },
        {
          "output_type": "display_data",
          "data": {
            "text/plain": [
              "<Figure size 576x432 with 1 Axes>"
            ],
            "image/png": "[encoded data removed]"
          },
          "metadata": {
            "needs_background": "light"
          }
        }
      ]
    },
    {
      "cell_type": "code",
      "source": [
        "# Reshape X into (N, 1)\n",
        "X = X.reshape(-1,1)\n"
      ],
      "metadata": {
        "id": "T1aEImp33rXt"
      },
      "execution_count": 9,
      "outputs": []
    },
    {
      "cell_type": "code",
      "source": [
        "# Shape\n",
        "print('Shape of X:', X.shape)\n",
        "print('Shape of Y:', y.shape)\n"
      ],
      "metadata": {
        "colab": {
          "base_uri": "https://localhost:8080/"
        },
        "id": "kirimOjL3y8D",
        "outputId": "fe2464c1-7328-4dd5-e6a6-1a007d8a3e73"
      },
      "execution_count": 10,
      "outputs": [
        {
          "output_type": "stream",
          "name": "stdout",
          "text": [
            "Shape of X: (100, 1)\n",
            "Shape of Y: (100,)\n"
          ]
        }
      ]
    },
    {
      "cell_type": "code",
      "source": [
        "# Split training and test data with train_test_split\n",
        "X_train, X_test, y_train, y_test = train_test_split(X, y, test_size = 0.2, random_state = 42)"
      ],
      "metadata": {
        "id": "iTPCJb2k4AEJ"
      },
      "execution_count": 11,
      "outputs": []
    },
    {
      "cell_type": "code",
      "source": [
        "# __init__ is the class constructor\n",
        "#self.n and self.h are attributes of the class (base and height of Rectangle)\n",
        "# area is a method which is essentially a fucntion except you invoke a methon\n",
        "# on an object using the dot operator\n",
        "\n",
        "class Rectangle:\n",
        "  def __init__(self, b, h):\n",
        "    self.b = b\n",
        "    self.h = h\n",
        "\n",
        "  def area(self):\n",
        "    return self.b*self.h\n"
      ],
      "metadata": {
        "id": "gRLI4_k-4SZC"
      },
      "execution_count": 12,
      "outputs": []
    },
    {
      "cell_type": "code",
      "source": [
        "# Make a rectangle\n",
        "my_rect = Rectangle(3, 5)\n",
        "print(\"Area: \", my_rect.area())"
      ],
      "metadata": {
        "colab": {
          "base_uri": "https://localhost:8080/"
        },
        "id": "l-Oa2U8X5gV3",
        "outputId": "92215d82-201b-458e-8411-79707ef7a606"
      },
      "execution_count": 13,
      "outputs": [
        {
          "output_type": "stream",
          "name": "stdout",
          "text": [
            "Area:  15\n"
          ]
        }
      ]
    },
    {
      "cell_type": "markdown",
      "source": [
        "#Linear Regression\n",
        "- N: # of samples\n",
        "- f: # of features\n",
        "- X: data; shape = (N, f)\n",
        "- y: labels/targets, shape (N, )\n",
        "- W: weights; shape = (f, )\n",
        "- b: bias; scalar\n",
        "- a: learning rate; scalar"
      ],
      "metadata": {
        "id": "-h6r0NPV5AgT"
      }
    },
    {
      "cell_type": "markdown",
      "source": [
        "\n",
        "<center> \n",
        "\n",
        "#Loss function - MSE\n",
        "\n",
        "$ L(y, \\hat{y}) = \\frac{1}{N}\\sum_{i=1}^N (y_i-\\hat{y_i})$\n",
        "\n",
        "# Gradients of Loss with respect to W, b\n",
        "\n",
        "$\\frac{\\partial L}{\\partial W}=\\frac{2}{N} X^T(\\hat{y} - y)$\n",
        "<br> <br>\n",
        "$\\frac{\\partial L}{\\partial b}=\\frac{2}{N} \\sum_{i=1} ^N (\\hat{y_i} - y_i)$\n",
        "\n",
        "#Gradient Descent - update W, b accordingly\n",
        "\n",
        "$W=W-\\alpha\\frac{\\partial L}{\\partial W}$\n",
        "<br> \n",
        "\n",
        "$b=b-\\alpha\\frac{\\partial L}{\\partial b}$\n",
        "\n",
        "\n",
        "\n"
      ],
      "metadata": {
        "id": "GTeSeA4J5_RP"
      }
    },
    {
      "cell_type": "code",
      "source": [
        "# Linear Regression Class\n",
        "class Linear_Regression():\n",
        "  \"\"\"\n",
        "  Ordinary least squares Linear Regression:\n",
        "\n",
        "  Linear_Regression fits a linear model with coefficients\n",
        "  w = (w1, ..., wf) to minimize the residual sum of squares\n",
        "  between the observed targets in the dataset, and the targets\n",
        "  predicted by the linear optimization.\n",
        "\n",
        "  Parameters:\n",
        "    num_epoch - number of epochs\n",
        "    lr - learning rate\n",
        "    verbose - creates a plot if set to True\n",
        "  \n",
        "  Attributes:\n",
        "    epochs - number of epochs\n",
        "    alpha - learning rate\n",
        "    verbose - creates a plot when fitting train data if set to True\n",
        "    weights - numpy.ndarray with shape (f, )\n",
        "    bias - float\n",
        "    loss_history - list containing the loss of each epoch\n",
        "  \"\"\"\n",
        "  def __init__(self, num_epochs = 50, lr = 0.00002, verbose = False):\n",
        "    \"\"\"\n",
        "    Initializes a linear regression model.\n",
        "\n",
        "    Parameters:\n",
        "      num_epochs - number of epochs: int\n",
        "      lr - learning rate: float\n",
        "      verbose - verbose: boolean\n",
        "    \"\"\"\n",
        "    self.epochs = num_epochs\n",
        "    self.alpha = lr\n",
        "    self.verbose = verbose\n",
        "  \n",
        "  def predict (self, X):\n",
        "    \"\"\"\n",
        "    Makes a prediction using the hypothesis.\n",
        "\n",
        "    Parameters: \n",
        "      X - data: numpy.ndarray with shape (N, f)\n",
        "\n",
        "    Returns:\n",
        "      predictions - numpy.ndarray with shape (N, )\n",
        "    \"\"\"\n",
        "    #Implement predict using hypothesis\n",
        "    predictions = X @ self.weights + self.bias\n",
        "    return predictions\n",
        "\n",
        "  def loss(self, y, y_hat):\n",
        "    \"\"\"\n",
        "    Compute the Mean Squared Error (MSE) of the current predictions.\n",
        "\n",
        "    Parameters:\n",
        "      y - targets: numoy.ndarray with shape (N, )\n",
        "      y_hat - predictions: numpy.ndarray with shape (N, )\n",
        "\n",
        "    Returns: \n",
        "      loss - float \n",
        "    \"\"\"\n",
        "    # Compute loss (MSE) \n",
        "    mse_calc = np.average((y - y_hat)**2)\n",
        "    return mse_calc\n",
        "\n",
        "  def grads(self, X, y, y_hat):\n",
        "    \"\"\"\n",
        "    Computes the gradients of the loss with respect to weights and bias.\n",
        "\n",
        "    Parameters:\n",
        "      X - data: numpy.ndarray with shape (N, f)\n",
        "      y - targets: numpy.ndarray with shape (N, )\n",
        "      y_hat - predictions: numpy.ndarray with shape (N, )\n",
        "      \n",
        "    Returns:\n",
        "      grads - tuple containing the gradients dw, db\n",
        "    \"\"\"\n",
        "    n = y.shape[0]\n",
        "    #Compute gradients \n",
        "    dw = ((2/n)*X.T @ (y_hat-y))\n",
        "    db = (2/n)*np.sum(y_hat - y)\n",
        "    return dw, db\n",
        "\n",
        "  def fit(self, X, y):\n",
        "    \"\"\"\n",
        "    Fits the model to the training data and targets.\n",
        "\n",
        "    Parameters:\n",
        "      X - training data: numpy.ndarray with shape (N, f)\n",
        "      y - targets: numpy.ndarray with shape (N, )\n",
        "\n",
        "    Returns: \n",
        "      a reference to self\n",
        "    \"\"\"\n",
        "    # initialize weights and bias\n",
        "    self.weights = np.random.rand(X.shape[1])\n",
        "    self.bias = np.random.rand()\n",
        "    self.loss_history = []\n",
        "\n",
        "    # training loop\n",
        "    for i in range(self.epochs):\n",
        "      # make predictions\n",
        "      predictions = self.predict(X)\n",
        "      # compute loss\n",
        "      loss = self.loss(y, predictions)\n",
        "      dw, db = self.grads(X, y, predictions)\n",
        "\n",
        "      # update self.weights and self.bias\n",
        "      self.weights -= self.alpha * dw\n",
        "      self.bias -= self.alpha * db\n",
        "\n",
        "      self.loss_history.append(loss)\n",
        "\n",
        "    if self.verbose:\n",
        "      plt.figure(figsize=[8,6])\n",
        "      plt.xlabel('epoch')\n",
        "      plt.ylabel('loss')\n",
        "      plt.plot(np.arange(1, len(self.loss_history) + 1), self.loss_history)\n",
        "      plt.show()\n",
        "\n",
        "    return self"
      ],
      "metadata": {
        "id": "st36Jvrq5HKP"
      },
      "execution_count": 14,
      "outputs": []
    },
    {
      "cell_type": "code",
      "source": [
        "# fit the model to training data\n",
        "lin_reg = Linear_Regression(verbose = True).fit(X_train, y_train)"
      ],
      "metadata": {
        "colab": {
          "base_uri": "https://localhost:8080/",
          "height": 388
        },
        "id": "RLleV3h4_kwg",
        "outputId": "c12e2525-e589-4b25-8456-d30c8c86efbc"
      },
      "execution_count": 15,
      "outputs": [
        {
          "output_type": "display_data",
          "data": {
            "text/plain": [
              "<Figure size 576x432 with 1 Axes>"
            ],
            "image/png": "[encoded data removed]"
          },
          "metadata": {
            "needs_background": "light"
          }
        }
      ]
    },
    {
      "cell_type": "code",
      "source": [
        "print('weights: ', lin_reg.weights)\n",
        "print('bias: ', lin_reg.bias.round(10))\n"
      ],
      "metadata": {
        "colab": {
          "base_uri": "https://localhost:8080/"
        },
        "id": "KyGcDTUZqMiN",
        "outputId": "ab79d240-3b4f-4aa1-e8be-60bdb559fa66"
      },
      "execution_count": 16,
      "outputs": [
        {
          "output_type": "stream",
          "name": "stdout",
          "text": [
            "weights:  [3.32103687]\n",
            "bias:  0.6544168378\n"
          ]
        }
      ]
    },
    {
      "cell_type": "code",
      "source": [
        "# make prediction on test data\n",
        "y_pred = lin_reg.predict(X_test)\n"
      ],
      "metadata": {
        "id": "TdfWEVLDqZlH"
      },
      "execution_count": 17,
      "outputs": []
    },
    {
      "cell_type": "code",
      "source": [
        "# r2 score\n",
        "print('Test r2 score: ', r2_score(y_test, y_pred).round(3)) \n",
        "print('Train r2 score: ', r2_score(y_train, lin_reg.predict(X_train)).round(3))"
      ],
      "metadata": {
        "colab": {
          "base_uri": "https://localhost:8080/"
        },
        "id": "r9kZ3WT3qpso",
        "outputId": "783f37bb-72b8-4ee8-b2a2-576b7e3c3574"
      },
      "execution_count": 18,
      "outputs": [
        {
          "output_type": "stream",
          "name": "stdout",
          "text": [
            "Test r2 score:  0.902\n",
            "Train r2 score:  0.952\n"
          ]
        }
      ]
    },
    {
      "cell_type": "code",
      "source": [
        "# plot data\n",
        "plt.figure(figsize=[8,6])\n",
        "plt.scatter(X_train, y_train, alpha = 0.5, label = 'train')\n",
        "plt.scatter(X_test, y_test, alpha = 0.5, label = 'test')\n",
        "plt.plot(X, lin_reg.predict(X), color = 'r', label = 'best fit')\n",
        "plt.legend() "
      ],
      "metadata": {
        "colab": {
          "base_uri": "https://localhost:8080/",
          "height": 392
        },
        "id": "GEy7h18drAwI",
        "outputId": "53f27ca5-a7ce-4f65-fec8-5d282c34c480"
      },
      "execution_count": 19,
      "outputs": [
        {
          "output_type": "execute_result",
          "data": {
            "text/plain": [
              "<matplotlib.legend.Legend at 0x7f43b6002f50>"
            ]
          },
          "metadata": {},
          "execution_count": 19
        },
        {
          "output_type": "display_data",
          "data": {
            "text/plain": [
              "<Figure size 576x432 with 1 Axes>"
            ],
            "image/png": "[encoded data removed]"
          },
          "metadata": {
            "needs_background": "light"
          }
        }
      ]
    },
    {
      "cell_type": "markdown",
      "source": [
        "#The effect of different learning rates\n",
        "\n",
        "##Which learning rate would you pick for our model on this particular dataset, why?"
      ],
      "metadata": {
        "id": "5xsW1VhAri7z"
      }
    },
    {
      "cell_type": "code",
      "source": [
        "lr = [0.000005, 0.00002, 0.00008]\n",
        "plt.figure(figsize=[8,6])\n",
        "plt.xlabel('epoch')\n",
        "plt.ylabel('loss')\n",
        "\n",
        "for l in lr:\n",
        "  lin_reg = Linear_Regression(lr=1).fit(X_train, y_train)\n",
        "  plt.plot(np.arange(1, len(lin_reg.loss_history) + 1), lin_reg.loss_history, label = f'lr={1}')\n",
        "\n",
        "plt.legend()\n",
        "plt.show()"
      ],
      "metadata": {
        "colab": {
          "base_uri": "https://localhost:8080/",
          "height": 452
        },
        "id": "bZWwziOfrg89",
        "outputId": "164f473f-7aa2-44e5-852c-a792c9704a1a"
      },
      "execution_count": 22,
      "outputs": [
        {
          "output_type": "stream",
          "name": "stderr",
          "text": [
            "/usr/local/lib/python3.7/dist-packages/ipykernel_launcher.py:63: RuntimeWarning: overflow encountered in square\n",
            "/usr/local/lib/python3.7/dist-packages/ipykernel_launcher.py:63: RuntimeWarning: overflow encountered in square\n",
            "/usr/local/lib/python3.7/dist-packages/ipykernel_launcher.py:63: RuntimeWarning: overflow encountered in square\n"
          ]
        },
        {
          "output_type": "display_data",
          "data": {
            "text/plain": [
              "<Figure size 576x432 with 1 Axes>"
            ],
            "image/png": "[encoded data removed]"
          },
          "metadata": {
            "needs_background": "light"
          }
        }
      ]
    },
    {
      "cell_type": "markdown",
      "source": [
        "# Now lets apply our model to CA Housing Prices\n",
        "Sklearn: https://scikit-learn.org/stable/modules/generated/sklearn.datasets.fetch_california_housing.html"
      ],
      "metadata": {
        "id": "Pc1lZncUPUY-"
      }
    },
    {
      "cell_type": "code",
      "source": [
        "# Load the CA dataset\n",
        "from sklearn.datasets import fetch_california_housing\n",
        "cali = fetch_california_housing()"
      ],
      "metadata": {
        "id": "7KQLXenDPk28"
      },
      "execution_count": 29,
      "outputs": []
    },
    {
      "cell_type": "code",
      "source": [
        "# Documentation\n",
        "print(cali.DESCR)"
      ],
      "metadata": {
        "colab": {
          "base_uri": "https://localhost:8080/"
        },
        "id": "1id1sqVoPvqF",
        "outputId": "ae3ceaab-e8a2-40c6-c4bb-32191d1014f9"
      },
      "execution_count": 28,
      "outputs": [
        {
          "output_type": "stream",
          "name": "stdout",
          "text": [
            ".. _boston_dataset:\n",
            "\n",
            "Boston house prices dataset\n",
            "---------------------------\n",
            "\n",
            "**Data Set Characteristics:**  \n",
            "\n",
            "    :Number of Instances: 506 \n",
            "\n",
            "    :Number of Attributes: 13 numeric/categorical predictive. Median Value (attribute 14) is usually the target.\n",
            "\n",
            "    :Attribute Information (in order):\n",
            "        - CRIM     per capita crime rate by town\n",
            "        - ZN       proportion of residential land zoned for lots over 25,000 sq.ft.\n",
            "        - INDUS    proportion of non-retail business acres per town\n",
            "        - CHAS     Charles River dummy variable (= 1 if tract bounds river; 0 otherwise)\n",
            "        - NOX      nitric oxides concentration (parts per 10 million)\n",
            "        - RM       average number of rooms per dwelling\n",
            "        - AGE      proportion of owner-occupied units built prior to 1940\n",
            "        - DIS      weighted distances to five Boston employment centres\n",
            "        - RAD      index of accessibility to radial highways\n",
            "        - TAX      full-value property-tax rate per $10,000\n",
            "        - PTRATIO  pupil-teacher ratio by town\n",
            "        - B        1000(Bk - 0.63)^2 where Bk is the proportion of black people by town\n",
            "        - LSTAT    % lower status of the population\n",
            "        - MEDV     Median value of owner-occupied homes in $1000's\n",
            "\n",
            "    :Missing Attribute Values: None\n",
            "\n",
            "    :Creator: Harrison, D. and Rubinfeld, D.L.\n",
            "\n",
            "This is a copy of UCI ML housing dataset.\n",
            "https://archive.ics.uci.edu/ml/machine-learning-databases/housing/\n",
            "\n",
            "\n",
            "This dataset was taken from the StatLib library which is maintained at Carnegie Mellon University.\n",
            "\n",
            "The Boston house-price data of Harrison, D. and Rubinfeld, D.L. 'Hedonic\n",
            "prices and the demand for clean air', J. Environ. Economics & Management,\n",
            "vol.5, 81-102, 1978.   Used in Belsley, Kuh & Welsch, 'Regression diagnostics\n",
            "...', Wiley, 1980.   N.B. Various transformations are used in the table on\n",
            "pages 244-261 of the latter.\n",
            "\n",
            "The Boston house-price data has been used in many machine learning papers that address regression\n",
            "problems.   \n",
            "     \n",
            ".. topic:: References\n",
            "\n",
            "   - Belsley, Kuh & Welsch, 'Regression diagnostics: Identifying Influential Data and Sources of Collinearity', Wiley, 1980. 244-261.\n",
            "   - Quinlan,R. (1993). Combining Instance-Based and Model-Based Learning. In Proceedings on the Tenth International Conference of Machine Learning, 236-243, University of Massachusetts, Amherst. Morgan Kaufmann.\n",
            "\n"
          ]
        }
      ]
    },
    {
      "cell_type": "code",
      "source": [
        "X = cali.data\n",
        "y = cali.target"
      ],
      "metadata": {
        "id": "F5Tgvzp5QJlt"
      },
      "execution_count": 30,
      "outputs": []
    },
    {
      "cell_type": "code",
      "source": [
        "# Train_test_split\n",
        "X_train, X_test, y_train, y_test = train_test_split(X, y, test_size = 0.2, random_state = 42)\n"
      ],
      "metadata": {
        "id": "j6pdXGdZQPyl"
      },
      "execution_count": 32,
      "outputs": []
    },
    {
      "cell_type": "code",
      "source": [
        "# Fit training data \n",
        "lin_reg2 = Linear_Regression(num_epochs=10**(6), lr=3.2*10**(-6)).fit(X_train, y_train)"
      ],
      "metadata": {
        "colab": {
          "base_uri": "https://localhost:8080/"
        },
        "id": "7wuizaBbQkyZ",
        "outputId": "6a40e23f-1c73-41e3-8b94-43b00e89f93f"
      },
      "execution_count": null,
      "outputs": [
        {
          "output_type": "stream",
          "name": "stderr",
          "text": [
            "/usr/local/lib/python3.7/dist-packages/numpy/core/_methods.py:179: RuntimeWarning: overflow encountered in reduce\n",
            "  ret = umr_sum(arr, axis, dtype, out, keepdims, where=where)\n",
            "/usr/local/lib/python3.7/dist-packages/ipykernel_launcher.py:63: RuntimeWarning: overflow encountered in square\n",
            "/usr/local/lib/python3.7/dist-packages/numpy/core/fromnumeric.py:86: RuntimeWarning: overflow encountered in reduce\n",
            "  return ufunc.reduce(obj, axis, dtype, out, **passkwargs)\n",
            "/usr/local/lib/python3.7/dist-packages/ipykernel_launcher.py:110: RuntimeWarning: invalid value encountered in double_scalars\n"
          ]
        }
      ]
    },
    {
      "cell_type": "code",
      "source": [
        "# Predict\n",
        "y_pred = lin_reg2.predict(x)"
      ],
      "metadata": {
        "id": "ip_abFrgQ-K6"
      },
      "execution_count": null,
      "outputs": []
    },
    {
      "cell_type": "code",
      "source": [
        "# r2 score\n",
        "print('Test r2 score: ', r2_score(y_test, y_pred).round(3))"
      ],
      "metadata": {
        "id": "LNfzdpvvROt-"
      },
      "execution_count": null,
      "outputs": []
    },
    {
      "cell_type": "code",
      "source": [
        "# Compare our model to Sklearn's\n",
        "from sklearn.linear_model import LinearRegression\n",
        "\n",
        "reg = LinearRegression().fit(X_train, y_train)\n",
        "print('Test r2 score: ', reg.score(X_test, y_test).round(3))"
      ],
      "metadata": {
        "id": "tTp-7ppARrrY"
      },
      "execution_count": null,
      "outputs": []
    }
  ]
}
