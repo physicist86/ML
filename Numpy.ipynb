{
  "nbformat": 4,
  "nbformat_minor": 0,
  "metadata": {
    "colab": {
      "name": " Numpy_Workshop_Skeleton.ipynb",
      "provenance": [],
      "collapsed_sections": []
    },
    "kernelspec": {
      "name": "python3",
      "display_name": "Python 3"
    },
    "language_info": {
      "name": "python"
    }
  },
  "cells": [
    {
      "cell_type": "markdown",
      "metadata": {
        "id": "N0RmHRhRiH-C"
      },
      "source": [
        "# **Intro to NumPy**\n",
        "NumPy is one of the most popular libraries in Python for data science and machine learning. Let's begin by importing the NumPy module to our notebook. \\\\\n",
        "API reference: https://numpy.org/doc/stable/reference/index.html"
      ]
    },
    {
      "cell_type": "code",
      "metadata": {
        "id": "nvlptMX3ieSE"
      },
      "source": [
        "import numpy as np"
      ],
      "execution_count": null,
      "outputs": []
    },
    {
      "cell_type": "markdown",
      "metadata": {
        "id": "gxz-jTt6j7d3"
      },
      "source": [
        "# What is a NumPy Array?\n",
        "NumPy’s main object is the homogeneous multidimensional array. It is a table of elements (usually numbers), all of the same type, indexed by a tuple of non-negative integers. In NumPy dimensions are called axes. \\\\\n",
        "Further reading: https://numpy.org/doc/stable/reference/arrays.html"
      ]
    },
    {
      "cell_type": "markdown",
      "metadata": {
        "id": "DDSi-1Zojy1N"
      },
      "source": [
        "# Creating NumPy Arrays\n",
        "There are several ways to create arrays. Let's create one by using the `array` function. \\\\\n",
        "Notice that it takes a list as its parameter."
      ]
    },
    {
      "cell_type": "code",
      "metadata": {
        "colab": {
          "base_uri": "https://localhost:8080/"
        },
        "id": "iMHrBB61jcfE",
        "outputId": "e1b75457-3c16-42ef-d8a8-931912fcf050"
      },
      "source": [
        "# create a numpy array\n",
        "first_arr = np.array([1,2,3])\n",
        "first_arr.shape"
      ],
      "execution_count": null,
      "outputs": [
        {
          "output_type": "execute_result",
          "data": {
            "text/plain": [
              "(3,)"
            ]
          },
          "metadata": {},
          "execution_count": 7
        }
      ]
    },
    {
      "cell_type": "markdown",
      "metadata": {
        "id": "6tmOM1DdnoIg"
      },
      "source": [
        "We can create a 2D array by passing in a nested list."
      ]
    },
    {
      "cell_type": "code",
      "metadata": {
        "colab": {
          "base_uri": "https://localhost:8080/"
        },
        "id": "77Rysl6Rj-9l",
        "outputId": "f12104c4-f2aa-4577-9a78-7f8ae452bae6"
      },
      "source": [
        "# create a 2D numpy array\n",
        "arr2 = np.array([[1,2, 3], [10, 14, -5]])\n",
        "arr2.shape"
      ],
      "execution_count": null,
      "outputs": [
        {
          "output_type": "execute_result",
          "data": {
            "text/plain": [
              "(2, 3)"
            ]
          },
          "metadata": {},
          "execution_count": 5
        }
      ]
    },
    {
      "cell_type": "markdown",
      "metadata": {
        "id": "EwddAtaInvRv"
      },
      "source": [
        "**Exercise**: Create a 1x3 Numpy array containing any values of your choice."
      ]
    },
    {
      "cell_type": "code",
      "metadata": {
        "id": "5AEcGFOaYg9h",
        "colab": {
          "base_uri": "https://localhost:8080/"
        },
        "outputId": "16555d05-35a9-4fee-ca15-a3ee46ebf2a3"
      },
      "source": [
        "### Type your answer here ###\n",
        "arr3 = np.array([[1, 3, 5]])\n",
        "arr3.shape"
      ],
      "execution_count": null,
      "outputs": [
        {
          "output_type": "execute_result",
          "data": {
            "text/plain": [
              "(1, 3)"
            ]
          },
          "metadata": {},
          "execution_count": 6
        }
      ]
    },
    {
      "cell_type": "markdown",
      "metadata": {
        "id": "pyF990Kv1TIW"
      },
      "source": [
        "# Basic Operations\n",
        "Arithmetic operators on arrays apply elementwise. A new array is created and filled with the result. Here are some examples:"
      ]
    },
    {
      "cell_type": "code",
      "metadata": {
        "colab": {
          "base_uri": "https://localhost:8080/"
        },
        "id": "Di6OpEWD1R_7",
        "outputId": "4a8deeac-2fa4-4a30-d4e1-c8dad818071f"
      },
      "source": [
        "a = np.array([20, 30, 40, 50])\n",
        "b = np.array([1, 2, 3, 4])\n",
        "b"
      ],
      "execution_count": null,
      "outputs": [
        {
          "output_type": "execute_result",
          "data": {
            "text/plain": [
              "array([1, 2, 3, 4])"
            ]
          },
          "metadata": {},
          "execution_count": 9
        }
      ]
    },
    {
      "cell_type": "code",
      "metadata": {
        "colab": {
          "base_uri": "https://localhost:8080/"
        },
        "id": "O0l-5E3q2SMF",
        "outputId": "dc716e51-c64a-484b-811c-b1adcdeee32c"
      },
      "source": [
        "# addition\n",
        "a + b\n",
        "c = np.array([5, 6, 7, 8])\n",
        "a + c"
      ],
      "execution_count": null,
      "outputs": [
        {
          "output_type": "execute_result",
          "data": {
            "text/plain": [
              "array([25, 36, 47, 58])"
            ]
          },
          "metadata": {},
          "execution_count": 12
        }
      ]
    },
    {
      "cell_type": "code",
      "metadata": {
        "colab": {
          "base_uri": "https://localhost:8080/"
        },
        "id": "i0zeTBu12Uqa",
        "outputId": "215f4531-d106-4f8a-cc30-9c0fb6405dca"
      },
      "source": [
        "# subtraction\n",
        "a - b"
      ],
      "execution_count": null,
      "outputs": [
        {
          "output_type": "execute_result",
          "data": {
            "text/plain": [
              "array([19, 28, 37, 46])"
            ]
          },
          "metadata": {},
          "execution_count": 14
        }
      ]
    },
    {
      "cell_type": "code",
      "metadata": {
        "colab": {
          "base_uri": "https://localhost:8080/"
        },
        "id": "s2iPZ-Mn2jIN",
        "outputId": "aa0efd67-63f2-477f-a6b8-02869d7b1514"
      },
      "source": [
        "# scalar multiplication\n",
        "5 * a"
      ],
      "execution_count": null,
      "outputs": [
        {
          "output_type": "execute_result",
          "data": {
            "text/plain": [
              "array([100, 150, 200, 250])"
            ]
          },
          "metadata": {},
          "execution_count": 15
        }
      ]
    },
    {
      "cell_type": "code",
      "metadata": {
        "colab": {
          "base_uri": "https://localhost:8080/"
        },
        "id": "ecq_RVrn2zul",
        "outputId": "b7bee543-ba7f-40bb-91d7-54f87861591d"
      },
      "source": [
        "# boolean comparison\n",
        "a < 35"
      ],
      "execution_count": null,
      "outputs": [
        {
          "output_type": "execute_result",
          "data": {
            "text/plain": [
              "array([ True,  True, False, False])"
            ]
          },
          "metadata": {},
          "execution_count": 16
        }
      ]
    },
    {
      "cell_type": "markdown",
      "metadata": {
        "id": "-QT7Df7m1mbh"
      },
      "source": [
        "Unlike in many matrix languages, the product operator `*` operates elementwise in NumPy arrays. The matrix product can be performed using the `@` operator (in python >=3.5) or the `dot` function or method:"
      ]
    },
    {
      "cell_type": "code",
      "metadata": {
        "id": "heK7LCDK4acQ"
      },
      "source": [
        "A = np.array([[1, 1], [0, 1]])\n",
        "B = np.array([[2, 0], [3, 4]])"
      ],
      "execution_count": null,
      "outputs": []
    },
    {
      "cell_type": "code",
      "metadata": {
        "colab": {
          "base_uri": "https://localhost:8080/"
        },
        "id": "S3MkzIWnlRcm",
        "outputId": "d7c0d0f9-e112-4fe4-8cbd-fba69986d272"
      },
      "source": [
        "A"
      ],
      "execution_count": null,
      "outputs": [
        {
          "output_type": "execute_result",
          "data": {
            "text/plain": [
              "array([[1, 1],\n",
              "       [0, 1]])"
            ]
          },
          "metadata": {},
          "execution_count": 20
        }
      ]
    },
    {
      "cell_type": "code",
      "metadata": {
        "colab": {
          "base_uri": "https://localhost:8080/"
        },
        "id": "9MXMDKLNlS_-",
        "outputId": "7e8285c1-545a-48b1-9c8e-94c94d4923ac"
      },
      "source": [
        "B"
      ],
      "execution_count": null,
      "outputs": [
        {
          "output_type": "execute_result",
          "data": {
            "text/plain": [
              "array([[2, 0],\n",
              "       [3, 4]])"
            ]
          },
          "metadata": {},
          "execution_count": 23
        }
      ]
    },
    {
      "cell_type": "code",
      "metadata": {
        "colab": {
          "base_uri": "https://localhost:8080/"
        },
        "id": "HmFksEF41s9s",
        "outputId": "6b415d4a-5430-4022-9306-d62ab4516f1a"
      },
      "source": [
        "# elementwise product *\n",
        "A*B"
      ],
      "execution_count": null,
      "outputs": [
        {
          "output_type": "execute_result",
          "data": {
            "text/plain": [
              "array([[2, 0],\n",
              "       [0, 4]])"
            ]
          },
          "metadata": {},
          "execution_count": 18
        }
      ]
    },
    {
      "cell_type": "code",
      "metadata": {
        "colab": {
          "base_uri": "https://localhost:8080/"
        },
        "id": "1sCstTKZ3XTu",
        "outputId": "0c94c719-d123-445e-d71a-c31a9e1918be"
      },
      "source": [
        "# matrix multiplication @\n",
        "A @ B"
      ],
      "execution_count": null,
      "outputs": [
        {
          "output_type": "execute_result",
          "data": {
            "text/plain": [
              "array([[5, 4],\n",
              "       [3, 4]])"
            ]
          },
          "metadata": {},
          "execution_count": 24
        }
      ]
    },
    {
      "cell_type": "code",
      "metadata": {
        "colab": {
          "base_uri": "https://localhost:8080/"
        },
        "id": "avNuxz_l3fz5",
        "outputId": "a3d96322-158c-4b55-8307-acd1b6eda52b"
      },
      "source": [
        "# In Python versions < 3.5, matrix multiplication can be done using dot()\n",
        "np.dot(A, B)\n",
        "np.matmul(A, B)"
      ],
      "execution_count": null,
      "outputs": [
        {
          "output_type": "execute_result",
          "data": {
            "text/plain": [
              "array([[5, 4],\n",
              "       [3, 4]])"
            ]
          },
          "metadata": {},
          "execution_count": 26
        }
      ]
    },
    {
      "cell_type": "markdown",
      "metadata": {
        "id": "uG0HuEO07maq"
      },
      "source": [
        "Many unary operations, such as computing the sum of all the elements in the array, are implemented as methods of the `ndarray` class."
      ]
    },
    {
      "cell_type": "code",
      "metadata": {
        "colab": {
          "base_uri": "https://localhost:8080/"
        },
        "id": "sqBqQPPg8Vc8",
        "outputId": "0527b6dc-e02b-4b42-e915-c61eae7d501d"
      },
      "source": [
        "# sum\n",
        "print(B)\n",
        "B.sum()"
      ],
      "execution_count": null,
      "outputs": [
        {
          "output_type": "stream",
          "name": "stdout",
          "text": [
            "[[2 0]\n",
            " [3 4]]\n"
          ]
        },
        {
          "output_type": "execute_result",
          "data": {
            "text/plain": [
              "9"
            ]
          },
          "metadata": {},
          "execution_count": 32
        }
      ]
    },
    {
      "cell_type": "code",
      "metadata": {
        "colab": {
          "base_uri": "https://localhost:8080/"
        },
        "id": "0F_yHnTQ8XGD",
        "outputId": "b8f072ce-f639-49de-be6a-3140b7686f71"
      },
      "source": [
        "# min()\n",
        "B.min()"
      ],
      "execution_count": null,
      "outputs": [
        {
          "output_type": "execute_result",
          "data": {
            "text/plain": [
              "0"
            ]
          },
          "metadata": {},
          "execution_count": 33
        }
      ]
    },
    {
      "cell_type": "code",
      "metadata": {
        "colab": {
          "base_uri": "https://localhost:8080/"
        },
        "id": "R4OyjZk58b--",
        "outputId": "9feb8989-030a-443e-e974-1d3e9839f096"
      },
      "source": [
        "# max()\n",
        "B.max()"
      ],
      "execution_count": null,
      "outputs": [
        {
          "output_type": "execute_result",
          "data": {
            "text/plain": [
              "4"
            ]
          },
          "metadata": {},
          "execution_count": 34
        }
      ]
    },
    {
      "cell_type": "markdown",
      "metadata": {
        "id": "uORkNMZ58ghq"
      },
      "source": [
        "By default, these operations apply to the array as though it were a list of numbers, regardless of its shape. However, by specifying the `axis` parameter you can apply an operation along the specified axis of an array:"
      ]
    },
    {
      "cell_type": "code",
      "metadata": {
        "colab": {
          "base_uri": "https://localhost:8080/"
        },
        "id": "axQwk_aQKPEO",
        "outputId": "035114b5-3faf-4707-c72d-e56f72979efc"
      },
      "source": [
        "arr2 = np.array([[1, 2, 3], [4, 5, 6]])\n",
        "arr2"
      ],
      "execution_count": null,
      "outputs": [
        {
          "output_type": "execute_result",
          "data": {
            "text/plain": [
              "array([[1, 2, 3],\n",
              "       [4, 5, 6]])"
            ]
          },
          "metadata": {},
          "execution_count": 35
        }
      ]
    },
    {
      "cell_type": "code",
      "metadata": {
        "colab": {
          "base_uri": "https://localhost:8080/"
        },
        "id": "55BTpS5b8k4q",
        "outputId": "b85914ae-313e-44d2-dc3b-996df869f47e"
      },
      "source": [
        "# sum of each column\n",
        "arr2.sum(axis=0)"
      ],
      "execution_count": null,
      "outputs": [
        {
          "output_type": "execute_result",
          "data": {
            "text/plain": [
              "array([5, 7, 9])"
            ]
          },
          "metadata": {},
          "execution_count": 37
        }
      ]
    },
    {
      "cell_type": "code",
      "metadata": {
        "colab": {
          "base_uri": "https://localhost:8080/"
        },
        "id": "qfNdRWgF8rrM",
        "outputId": "37dc9fad-a4ea-4059-946e-e7999c618934"
      },
      "source": [
        "# min of each row \n",
        "arr2.min(axis=1)"
      ],
      "execution_count": null,
      "outputs": [
        {
          "output_type": "execute_result",
          "data": {
            "text/plain": [
              "array([1, 4])"
            ]
          },
          "metadata": {},
          "execution_count": 39
        }
      ]
    },
    {
      "cell_type": "markdown",
      "metadata": {
        "id": "kkdO19RdnORF"
      },
      "source": [
        "# Universal Functions\n",
        "NumPy provides familiar mathematical functions such as `sin`, `cos`, and `exp`. In NumPy, these are called “universal functions” (ufunc). Within NumPy, these functions operate elementwise on an array, producing an array as output. We'll go through some of the most common ones together."
      ]
    },
    {
      "cell_type": "code",
      "metadata": {
        "colab": {
          "base_uri": "https://localhost:8080/"
        },
        "id": "ka1QXJ6lmsYT",
        "outputId": "7faf7509-12b7-4f8e-c9c8-29ee4028ea1a"
      },
      "source": [
        "# exp()\n",
        "np.exp(arr2)"
      ],
      "execution_count": null,
      "outputs": [
        {
          "output_type": "execute_result",
          "data": {
            "text/plain": [
              "array([[  2.71828183,   7.3890561 ,  20.08553692],\n",
              "       [ 54.59815003, 148.4131591 , 403.42879349]])"
            ]
          },
          "metadata": {},
          "execution_count": 40
        }
      ]
    },
    {
      "cell_type": "code",
      "metadata": {
        "colab": {
          "base_uri": "https://localhost:8080/"
        },
        "id": "eHoAcLnB-Cb6",
        "outputId": "baeafff2-093d-4f7f-b9fa-bc69c9369e57"
      },
      "source": [
        "# sqrt()\n",
        "np.sqrt(arr2)"
      ],
      "execution_count": null,
      "outputs": [
        {
          "output_type": "execute_result",
          "data": {
            "text/plain": [
              "array([[1.        , 1.41421356, 1.73205081],\n",
              "       [2.        , 2.23606798, 2.44948974]])"
            ]
          },
          "metadata": {},
          "execution_count": 41
        }
      ]
    },
    {
      "cell_type": "code",
      "metadata": {
        "colab": {
          "base_uri": "https://localhost:8080/"
        },
        "id": "mGBR22xTVJ6Q",
        "outputId": "f8077d8b-a546-459d-cf6f-c5adb8b07939"
      },
      "source": [
        "# sin()\n",
        "np.sin(arr2)"
      ],
      "execution_count": null,
      "outputs": [
        {
          "output_type": "execute_result",
          "data": {
            "text/plain": [
              "array([[ 0.84147098,  0.90929743,  0.14112001],\n",
              "       [-0.7568025 , -0.95892427, -0.2794155 ]])"
            ]
          },
          "metadata": {},
          "execution_count": 42
        }
      ]
    },
    {
      "cell_type": "markdown",
      "metadata": {
        "id": "HlrSHUgxlBP7"
      },
      "source": [
        "# Indexing, Slicing and Iterating\n",
        "One-dimensional arrays can be indexed, sliced and iterated over, much like lists and other Python sequences."
      ]
    },
    {
      "cell_type": "code",
      "metadata": {
        "colab": {
          "base_uri": "https://localhost:8080/"
        },
        "id": "mp2Al45Uk2W3",
        "outputId": "6b09c678-f28f-4e0f-da24-bd3fa0ab6cfe"
      },
      "source": [
        "arr3 = np.array([0, 1, 2, 3, 4, 5, 6, 7, 8, 9])\n",
        "arr3[2]   # gets the third element in arr3"
      ],
      "execution_count": null,
      "outputs": [
        {
          "output_type": "execute_result",
          "data": {
            "text/plain": [
              "2"
            ]
          },
          "metadata": {},
          "execution_count": 43
        }
      ]
    },
    {
      "cell_type": "markdown",
      "metadata": {
        "id": "6IWEGMpmBJIU"
      },
      "source": [
        "**Exercise**: Select the last 4 elements in `arr3` and store them in `ex3`. \\\\\n",
        "Hint: The syntax for slicing an NumPy array is same as slicing a list.\n",
        "\n"
      ]
    },
    {
      "cell_type": "code",
      "metadata": {
        "id": "_t_UlQZ0BJ3j",
        "colab": {
          "base_uri": "https://localhost:8080/"
        },
        "outputId": "9b45c537-0811-4daf-961d-70c381ad6f38"
      },
      "source": [
        "### Type your answer here ###\n",
        "ex3 = arr3[-4:]\n",
        "ex3"
      ],
      "execution_count": null,
      "outputs": [
        {
          "output_type": "execute_result",
          "data": {
            "text/plain": [
              "array([6, 7, 8, 9])"
            ]
          },
          "metadata": {},
          "execution_count": 45
        }
      ]
    },
    {
      "cell_type": "code",
      "metadata": {
        "colab": {
          "base_uri": "https://localhost:8080/"
        },
        "id": "MVlDHlnaCc8D",
        "outputId": "652547f1-5c0b-4e11-dc61-923320da17ec"
      },
      "source": [
        "# iterates through arr3\n",
        "for i in arr3:\n",
        "  print(i)"
      ],
      "execution_count": null,
      "outputs": [
        {
          "output_type": "stream",
          "name": "stdout",
          "text": [
            "0\n",
            "1\n",
            "2\n",
            "3\n",
            "4\n",
            "5\n",
            "6\n",
            "7\n",
            "8\n",
            "9\n"
          ]
        }
      ]
    },
    {
      "cell_type": "markdown",
      "metadata": {
        "id": "1TJwocFSu_T9"
      },
      "source": [
        "Multidimensional arrays can have one index per axis. These indices are given in a tuple separated by commas:"
      ]
    },
    {
      "cell_type": "code",
      "metadata": {
        "colab": {
          "base_uri": "https://localhost:8080/"
        },
        "id": "G4uOCgeODIl0",
        "outputId": "51b35d41-a899-4dea-840f-b034cd939d1a"
      },
      "source": [
        "arr4 = np.array(\n",
        "        [\n",
        "          [\n",
        "            [ 0,  1,  2,  3],\n",
        "            [ 4,  5,  6,  7],\n",
        "            [ 8,  9, 10, 11]\n",
        "          ],\n",
        "          [\n",
        "            [12, 13, 14, 15],\n",
        "            [16, 17, 18, 19],\n",
        "            [20, 21, 22, 23]\n",
        "          ]\n",
        "        ]\n",
        "        )\n",
        "arr4.shape"
      ],
      "execution_count": null,
      "outputs": [
        {
          "output_type": "execute_result",
          "data": {
            "text/plain": [
              "(2, 3, 4)"
            ]
          },
          "metadata": {},
          "execution_count": 48
        }
      ]
    },
    {
      "cell_type": "code",
      "metadata": {
        "colab": {
          "base_uri": "https://localhost:8080/"
        },
        "id": "ZMrVYGxClKio",
        "outputId": "99b243c4-1db2-483c-aa30-9a3774b5c31b"
      },
      "source": [
        "# element (0, 2, 1)\n",
        "arr4[0][2]"
      ],
      "execution_count": null,
      "outputs": [
        {
          "output_type": "execute_result",
          "data": {
            "text/plain": [
              "array([ 8,  9, 10, 11])"
            ]
          },
          "metadata": {},
          "execution_count": 51
        }
      ]
    },
    {
      "cell_type": "markdown",
      "metadata": {
        "id": "c9YI--Ixo2M6"
      },
      "source": [
        "Just like slicing a 1D array, we can select a range of element for each axis."
      ]
    },
    {
      "cell_type": "code",
      "metadata": {
        "colab": {
          "base_uri": "https://localhost:8080/"
        },
        "id": "AfviB1i9pbJ3",
        "outputId": "2eee4f09-bb45-49c3-9a05-26b707e8a399"
      },
      "source": [
        "arr4[0, 2, 1:3]"
      ],
      "execution_count": null,
      "outputs": [
        {
          "output_type": "execute_result",
          "data": {
            "text/plain": [
              "array([ 9, 10])"
            ]
          },
          "metadata": {},
          "execution_count": 52
        }
      ]
    },
    {
      "cell_type": "markdown",
      "metadata": {
        "id": "DucTVc8xqJVB"
      },
      "source": [
        "If we want to select all elements in an axis, we can leave out both indices like so:"
      ]
    },
    {
      "cell_type": "code",
      "metadata": {
        "colab": {
          "base_uri": "https://localhost:8080/"
        },
        "id": "kuES2WBoqDqO",
        "outputId": "0c83e362-c155-4b41-f31b-79812575ce08"
      },
      "source": [
        "arr4[0, 2, :]"
      ],
      "execution_count": null,
      "outputs": [
        {
          "output_type": "execute_result",
          "data": {
            "text/plain": [
              "array([ 8,  9, 10, 11])"
            ]
          },
          "metadata": {},
          "execution_count": 53
        }
      ]
    },
    {
      "cell_type": "code",
      "metadata": {
        "colab": {
          "base_uri": "https://localhost:8080/"
        },
        "id": "mTBKhiAuqyAD",
        "outputId": "24d56c87-92ef-45f0-c80c-d5192c9c7bee"
      },
      "source": [
        "arr4[0, :, 1]"
      ],
      "execution_count": null,
      "outputs": [
        {
          "output_type": "execute_result",
          "data": {
            "text/plain": [
              "array([1, 5, 9])"
            ]
          },
          "metadata": {},
          "execution_count": 54
        }
      ]
    },
    {
      "cell_type": "markdown",
      "metadata": {
        "id": "H6kD_6b8oRXH"
      },
      "source": [
        "When fewer indices are provided than the number of axes, the missing indices are considered complete slices:"
      ]
    },
    {
      "cell_type": "markdown",
      "metadata": {
        "id": "u11_IL5ctYD_"
      },
      "source": [
        "Iterating over multidimensional arrays is done with respect to the first axis:"
      ]
    },
    {
      "cell_type": "code",
      "metadata": {
        "id": "g68MtP7VtcJn"
      },
      "source": [
        "arr6 = np.array([\n",
        "       [ 0,  1,  2,  3],\n",
        "       [ 4,  5,  6,  7],\n",
        "       [ 8,  9, 10, 11]\n",
        "       ])\n",
        "arr6"
      ],
      "execution_count": null,
      "outputs": []
    },
    {
      "cell_type": "markdown",
      "metadata": {
        "id": "TBCEGNRxt10p"
      },
      "source": [
        "However, if one wants to perform an operation on each element in the array, one can use the `flat` attribute which is an iterator over all the elements of the array:"
      ]
    },
    {
      "cell_type": "code",
      "metadata": {
        "id": "O3OZuKFutwVd"
      },
      "source": [
        "for element in arr6.flat:\n",
        "  print(element)"
      ],
      "execution_count": null,
      "outputs": []
    },
    {
      "cell_type": "markdown",
      "metadata": {
        "id": "vqpI5LRdmK0E"
      },
      "source": [
        "# NumPy Array Attributes\n",
        "NumPy’s array class is called `ndarray`. It is also known by the alias `array`. Note that `numpy.array` is not the same as the Standard Python Library class `array.array`, which only handles one-dimensional arrays and offers less functionality. The more important attributes of an ndarray object are:"
      ]
    },
    {
      "cell_type": "markdown",
      "metadata": {
        "id": "jK3H-XKUpytM"
      },
      "source": [
        "**ndarray.ndim** \\\\\n",
        "the number of axes (dimensions) of the array."
      ]
    },
    {
      "cell_type": "code",
      "metadata": {
        "colab": {
          "base_uri": "https://localhost:8080/"
        },
        "id": "mNMUtCu_MNJ8",
        "outputId": "8c60f420-8d5a-4869-9450-e51e880bffb7"
      },
      "source": [
        "arr4"
      ],
      "execution_count": null,
      "outputs": [
        {
          "output_type": "execute_result",
          "data": {
            "text/plain": [
              "array([[[ 0,  1,  2,  3],\n",
              "        [ 4,  5,  6,  7],\n",
              "        [ 8,  9, 10, 11]],\n",
              "\n",
              "       [[12, 13, 14, 15],\n",
              "        [16, 17, 18, 19],\n",
              "        [20, 21, 22, 23]]])"
            ]
          },
          "metadata": {},
          "execution_count": 55
        }
      ]
    },
    {
      "cell_type": "code",
      "metadata": {
        "colab": {
          "base_uri": "https://localhost:8080/"
        },
        "id": "nV6eVBU_mj1R",
        "outputId": "d4d344f0-c0c3-4f02-ae92-17da097ab843"
      },
      "source": [
        "# number of dimensions of the array 'ndim'\n",
        "arr4.ndim"
      ],
      "execution_count": null,
      "outputs": [
        {
          "output_type": "execute_result",
          "data": {
            "text/plain": [
              "3"
            ]
          },
          "metadata": {},
          "execution_count": 56
        }
      ]
    },
    {
      "cell_type": "markdown",
      "metadata": {
        "id": "6fsXmMbWp9Hw"
      },
      "source": [
        "**ndarray.shape** \\\\\n",
        "the dimensions of the array. This is a tuple of integers indicating the size of the array in each dimension. For a matrix with n rows and m columns, `shape` will be (n,m). The length of the `shape` tuple is therefore the number of axes, `ndim`."
      ]
    },
    {
      "cell_type": "code",
      "metadata": {
        "colab": {
          "base_uri": "https://localhost:8080/"
        },
        "id": "VhDVYIfLl3cf",
        "outputId": "9c73c091-982b-46f0-8d60-94137297c4ca"
      },
      "source": [
        "# shape of the array 'shape'\n",
        "arr4.shape"
      ],
      "execution_count": null,
      "outputs": [
        {
          "output_type": "execute_result",
          "data": {
            "text/plain": [
              "(2, 3, 4)"
            ]
          },
          "metadata": {},
          "execution_count": 57
        }
      ]
    },
    {
      "cell_type": "markdown",
      "metadata": {
        "id": "zoOlj1OuqU4P"
      },
      "source": [
        "**ndarray.size** \\\\\n",
        "the total number of elements of the array. This is equal to the product of the elements of `shape`."
      ]
    },
    {
      "cell_type": "code",
      "metadata": {
        "colab": {
          "base_uri": "https://localhost:8080/"
        },
        "id": "V2wLCOQnmlvq",
        "outputId": "25c01f1a-7452-447f-f2b7-ae2c048a3a1b"
      },
      "source": [
        "# total number of elements in the array 'size'\n",
        "arr4.size"
      ],
      "execution_count": null,
      "outputs": [
        {
          "output_type": "execute_result",
          "data": {
            "text/plain": [
              "24"
            ]
          },
          "metadata": {},
          "execution_count": 58
        }
      ]
    },
    {
      "cell_type": "markdown",
      "metadata": {
        "id": "fqiVTXrGqqrO"
      },
      "source": [
        "**ndarray.dtype** \\\\\n",
        "an object describing the type of the elements in the array. One can create or specify dtype’s using standard Python types. Additionally NumPy provides types of its own. numpy.int32, numpy.int16, and numpy.float64 are some examples."
      ]
    },
    {
      "cell_type": "code",
      "metadata": {
        "colab": {
          "base_uri": "https://localhost:8080/"
        },
        "id": "-Kwdp7rBmnjI",
        "outputId": "22e37407-aad3-4870-86e9-4d4a96b874a1"
      },
      "source": [
        "# data type of the array 'dtype'   \n",
        "# NOTE: numpy arrays need to have a single data type unlike python lists\n",
        "arr4.dtype"
      ],
      "execution_count": null,
      "outputs": [
        {
          "output_type": "execute_result",
          "data": {
            "text/plain": [
              "dtype('int64')"
            ]
          },
          "metadata": {},
          "execution_count": 59
        }
      ]
    },
    {
      "cell_type": "markdown",
      "metadata": {
        "id": "kofaVDuIjOqR"
      },
      "source": [
        "# Changing the shape of an array\n",
        "An array has a shape given by the number of elements along each axis:"
      ]
    },
    {
      "cell_type": "code",
      "metadata": {
        "colab": {
          "base_uri": "https://localhost:8080/"
        },
        "id": "Xa2fa5h-jZPG",
        "outputId": "0372c8e5-fde3-4412-8abe-ec93635e848e"
      },
      "source": [
        "arr1 = np.array([[1, 2, 3, 4], [5, 6, 7, 8], [9, 10, 11, 12]])\n",
        "arr1.shape"
      ],
      "execution_count": null,
      "outputs": [
        {
          "output_type": "execute_result",
          "data": {
            "text/plain": [
              "(3, 4)"
            ]
          },
          "metadata": {},
          "execution_count": 60
        }
      ]
    },
    {
      "cell_type": "markdown",
      "metadata": {
        "id": "RXXJeW_rkRhc"
      },
      "source": [
        "The shape of an array can be changed with various commands. Note that the following three commands all return a modified array, but do not change the original array:"
      ]
    },
    {
      "cell_type": "code",
      "metadata": {
        "colab": {
          "base_uri": "https://localhost:8080/"
        },
        "id": "_MLojB2akN_3",
        "outputId": "ddd78d38-5e10-4285-d3ee-2baa00c1437d"
      },
      "source": [
        "# ravel = flatten the array\n",
        "arr1.ravel()  # returns the array, flattened"
      ],
      "execution_count": null,
      "outputs": [
        {
          "output_type": "execute_result",
          "data": {
            "text/plain": [
              "array([ 1,  2,  3,  4,  5,  6,  7,  8,  9, 10, 11, 12])"
            ]
          },
          "metadata": {},
          "execution_count": 61
        }
      ]
    },
    {
      "cell_type": "code",
      "metadata": {
        "colab": {
          "base_uri": "https://localhost:8080/"
        },
        "id": "mg1vbY0fkYIU",
        "outputId": "429aaead-24d5-4971-e0ff-1b3ea142f822"
      },
      "source": [
        "# reshape the array to 6x2\n",
        "arr1.reshape(6, 2)"
      ],
      "execution_count": null,
      "outputs": [
        {
          "output_type": "execute_result",
          "data": {
            "text/plain": [
              "array([[ 1,  2],\n",
              "       [ 3,  4],\n",
              "       [ 5,  6],\n",
              "       [ 7,  8],\n",
              "       [ 9, 10],\n",
              "       [11, 12]])"
            ]
          },
          "metadata": {},
          "execution_count": 64
        }
      ]
    },
    {
      "cell_type": "code",
      "metadata": {
        "colab": {
          "base_uri": "https://localhost:8080/"
        },
        "id": "-_33zWD3ko3z",
        "outputId": "8fe52dbf-add1-42f6-d2bf-ede8368af8dd"
      },
      "source": [
        "# transpose the array\n",
        "arr1.T"
      ],
      "execution_count": null,
      "outputs": [
        {
          "output_type": "execute_result",
          "data": {
            "text/plain": [
              "array([[ 1,  5,  9],\n",
              "       [ 2,  6, 10],\n",
              "       [ 3,  7, 11],\n",
              "       [ 4,  8, 12]])"
            ]
          },
          "metadata": {},
          "execution_count": 65
        }
      ]
    },
    {
      "cell_type": "markdown",
      "metadata": {
        "id": "LJLJA6tylg_J"
      },
      "source": [
        "If a dimension is given as `-1` in a reshaping operation, the other dimensions are automatically calculated:"
      ]
    },
    {
      "cell_type": "code",
      "metadata": {
        "colab": {
          "base_uri": "https://localhost:8080/"
        },
        "id": "TRqcxNDQlmLn",
        "outputId": "35b2811f-2822-4110-b914-9e59a69e8f8e"
      },
      "source": [
        "arr1.reshape(6, -1) # equivalent to arr1.reshape(6, 2)"
      ],
      "execution_count": null,
      "outputs": [
        {
          "output_type": "execute_result",
          "data": {
            "text/plain": [
              "array([[ 1,  2],\n",
              "       [ 3,  4],\n",
              "       [ 5,  6],\n",
              "       [ 7,  8],\n",
              "       [ 9, 10],\n",
              "       [11, 12]])"
            ]
          },
          "metadata": {},
          "execution_count": 68
        }
      ]
    },
    {
      "cell_type": "markdown",
      "metadata": {
        "id": "g7zFzYvNsPLV"
      },
      "source": [
        "# Other ways to create an array\n",
        "Often, the elements of an array are originally unknown, but its size is known. Hence, NumPy offers several functions to create arrays with initial placeholder content. These minimize the necessity of growing arrays, an expensive operation."
      ]
    },
    {
      "cell_type": "markdown",
      "metadata": {
        "id": "vlAZJLdMtkQW"
      },
      "source": [
        "The function `zeros` creates an array full of zeros."
      ]
    },
    {
      "cell_type": "code",
      "metadata": {
        "colab": {
          "base_uri": "https://localhost:8080/"
        },
        "id": "27UgyuxSsnD8",
        "outputId": "a942fe02-e62b-42f5-de2c-62866b03b89b"
      },
      "source": [
        "# array of zeros \n",
        "# very useful!!\n",
        "np.zeros((100,2))"
      ],
      "execution_count": null,
      "outputs": [
        {
          "output_type": "execute_result",
          "data": {
            "text/plain": [
              "array([[0., 0.],\n",
              "       [0., 0.],\n",
              "       [0., 0.],\n",
              "       [0., 0.],\n",
              "       [0., 0.],\n",
              "       [0., 0.],\n",
              "       [0., 0.],\n",
              "       [0., 0.],\n",
              "       [0., 0.],\n",
              "       [0., 0.],\n",
              "       [0., 0.],\n",
              "       [0., 0.],\n",
              "       [0., 0.],\n",
              "       [0., 0.],\n",
              "       [0., 0.],\n",
              "       [0., 0.],\n",
              "       [0., 0.],\n",
              "       [0., 0.],\n",
              "       [0., 0.],\n",
              "       [0., 0.],\n",
              "       [0., 0.],\n",
              "       [0., 0.],\n",
              "       [0., 0.],\n",
              "       [0., 0.],\n",
              "       [0., 0.],\n",
              "       [0., 0.],\n",
              "       [0., 0.],\n",
              "       [0., 0.],\n",
              "       [0., 0.],\n",
              "       [0., 0.],\n",
              "       [0., 0.],\n",
              "       [0., 0.],\n",
              "       [0., 0.],\n",
              "       [0., 0.],\n",
              "       [0., 0.],\n",
              "       [0., 0.],\n",
              "       [0., 0.],\n",
              "       [0., 0.],\n",
              "       [0., 0.],\n",
              "       [0., 0.],\n",
              "       [0., 0.],\n",
              "       [0., 0.],\n",
              "       [0., 0.],\n",
              "       [0., 0.],\n",
              "       [0., 0.],\n",
              "       [0., 0.],\n",
              "       [0., 0.],\n",
              "       [0., 0.],\n",
              "       [0., 0.],\n",
              "       [0., 0.],\n",
              "       [0., 0.],\n",
              "       [0., 0.],\n",
              "       [0., 0.],\n",
              "       [0., 0.],\n",
              "       [0., 0.],\n",
              "       [0., 0.],\n",
              "       [0., 0.],\n",
              "       [0., 0.],\n",
              "       [0., 0.],\n",
              "       [0., 0.],\n",
              "       [0., 0.],\n",
              "       [0., 0.],\n",
              "       [0., 0.],\n",
              "       [0., 0.],\n",
              "       [0., 0.],\n",
              "       [0., 0.],\n",
              "       [0., 0.],\n",
              "       [0., 0.],\n",
              "       [0., 0.],\n",
              "       [0., 0.],\n",
              "       [0., 0.],\n",
              "       [0., 0.],\n",
              "       [0., 0.],\n",
              "       [0., 0.],\n",
              "       [0., 0.],\n",
              "       [0., 0.],\n",
              "       [0., 0.],\n",
              "       [0., 0.],\n",
              "       [0., 0.],\n",
              "       [0., 0.],\n",
              "       [0., 0.],\n",
              "       [0., 0.],\n",
              "       [0., 0.],\n",
              "       [0., 0.],\n",
              "       [0., 0.],\n",
              "       [0., 0.],\n",
              "       [0., 0.],\n",
              "       [0., 0.],\n",
              "       [0., 0.],\n",
              "       [0., 0.],\n",
              "       [0., 0.],\n",
              "       [0., 0.],\n",
              "       [0., 0.],\n",
              "       [0., 0.],\n",
              "       [0., 0.],\n",
              "       [0., 0.],\n",
              "       [0., 0.],\n",
              "       [0., 0.],\n",
              "       [0., 0.],\n",
              "       [0., 0.]])"
            ]
          },
          "metadata": {},
          "execution_count": 70
        }
      ]
    },
    {
      "cell_type": "markdown",
      "metadata": {
        "id": "SR_HzXx0tvGv"
      },
      "source": [
        "The function `ones` creates an array full of ones. By default, the dtype of the created array is `float64`, but it can be specified via the key word argument `dtype`."
      ]
    },
    {
      "cell_type": "code",
      "metadata": {
        "colab": {
          "base_uri": "https://localhost:8080/"
        },
        "id": "TqgU3SORs9kT",
        "outputId": "94bc8d2d-b635-4b6e-ee48-a0dfd2c5d506"
      },
      "source": [
        "# array of ones \n",
        "# again, very useful!\n",
        "np.ones((100))"
      ],
      "execution_count": null,
      "outputs": [
        {
          "output_type": "execute_result",
          "data": {
            "text/plain": [
              "array([1., 1., 1., 1., 1., 1., 1., 1., 1., 1., 1., 1., 1., 1., 1., 1., 1.,\n",
              "       1., 1., 1., 1., 1., 1., 1., 1., 1., 1., 1., 1., 1., 1., 1., 1., 1.,\n",
              "       1., 1., 1., 1., 1., 1., 1., 1., 1., 1., 1., 1., 1., 1., 1., 1., 1.,\n",
              "       1., 1., 1., 1., 1., 1., 1., 1., 1., 1., 1., 1., 1., 1., 1., 1., 1.,\n",
              "       1., 1., 1., 1., 1., 1., 1., 1., 1., 1., 1., 1., 1., 1., 1., 1., 1.,\n",
              "       1., 1., 1., 1., 1., 1., 1., 1., 1., 1., 1., 1., 1., 1., 1.])"
            ]
          },
          "metadata": {},
          "execution_count": 71
        }
      ]
    },
    {
      "cell_type": "markdown",
      "metadata": {
        "id": "2pkmdqdXt9j2"
      },
      "source": [
        "The function `empty` creates an array whose initial content is random and depends on the state of the memory."
      ]
    },
    {
      "cell_type": "code",
      "metadata": {
        "colab": {
          "base_uri": "https://localhost:8080/"
        },
        "id": "adn9oym5tGUN",
        "outputId": "41db9dcb-f742-4597-ce64-75c58c2b7c92"
      },
      "source": [
        "x =np.empty((2, 3))\n",
        "x[0,1] = 5\n",
        "x"
      ],
      "execution_count": null,
      "outputs": [
        {
          "output_type": "execute_result",
          "data": {
            "text/plain": [
              "array([[0.84147098, 5.        , 0.14112001],\n",
              "       [0.7568025 , 0.95892427, 0.2794155 ]])"
            ]
          },
          "metadata": {},
          "execution_count": 74
        }
      ]
    },
    {
      "cell_type": "markdown",
      "metadata": {
        "id": "JZE-m2UeuO8N"
      },
      "source": [
        "# Creating sequential data\n",
        "To create sequences of numbers, NumPy provides the `arange` function which is analogous to the Python built-in range, but returns an array. \\\\\n",
        "**Syntax**: `np.arange(start, stop)`, where `start` is inclusive whereas `stop` is not."
      ]
    },
    {
      "cell_type": "code",
      "metadata": {
        "colab": {
          "base_uri": "https://localhost:8080/"
        },
        "id": "DpvRj235xxe3",
        "outputId": "38d7f88a-c9ac-4dd1-c689-e2017f67326c"
      },
      "source": [
        "# sequence of values from [0, 10)\n",
        "np.arange(0, 10)"
      ],
      "execution_count": null,
      "outputs": [
        {
          "output_type": "execute_result",
          "data": {
            "text/plain": [
              "array([0, 1, 2, 3, 4, 5, 6, 7, 8, 9])"
            ]
          },
          "metadata": {},
          "execution_count": 77
        }
      ]
    },
    {
      "cell_type": "markdown",
      "metadata": {
        "id": "CfwKiPc9bXUl"
      },
      "source": [
        "Optionally, we can specify the spacing between consecutive values in our call to `arange` by passing in an additional parameter. \\\\\n",
        "**Syntax**: `np.arange(start, stop, step)`, where `step` is the spacing between values. Note that `step` has a default value of 1."
      ]
    },
    {
      "cell_type": "code",
      "metadata": {
        "colab": {
          "base_uri": "https://localhost:8080/"
        },
        "id": "edtIN2YdkEHe",
        "outputId": "871c4375-e7a7-470c-976e-2de74c81000a"
      },
      "source": [
        "np.arange(10, 30, 5)"
      ],
      "execution_count": null,
      "outputs": [
        {
          "output_type": "execute_result",
          "data": {
            "text/plain": [
              "array([10, 15, 20, 25])"
            ]
          },
          "metadata": {},
          "execution_count": 78
        }
      ]
    },
    {
      "cell_type": "code",
      "metadata": {
        "colab": {
          "base_uri": "https://localhost:8080/"
        },
        "id": "Z7KEVETwx8DB",
        "outputId": "70ca6919-a569-4296-c615-7227056f63ce"
      },
      "source": [
        "np.arange(0, 2, 0.3)  # it accepts float arguments"
      ],
      "execution_count": null,
      "outputs": [
        {
          "output_type": "execute_result",
          "data": {
            "text/plain": [
              "array([0. , 0.3, 0.6, 0.9, 1.2, 1.5, 1.8])"
            ]
          },
          "metadata": {},
          "execution_count": 79
        }
      ]
    },
    {
      "cell_type": "markdown",
      "metadata": {
        "id": "kBZ6UdPjyiqF"
      },
      "source": [
        "When `arange` is used with floating point arguments, it is generally not possible to predict the number of elements obtained, due to the finite floating point precision. For this reason, it is usually better to use the function `linspace` that receives as an argument the number of elements that we want, instead of the step. \\\\\n",
        "**Syntax**: `np.linspace(start, stop, num)`, where `num` is the number of samples to generate. Note that `num` has a default value of 50 and must be non-negative."
      ]
    },
    {
      "cell_type": "code",
      "metadata": {
        "colab": {
          "base_uri": "https://localhost:8080/"
        },
        "id": "wmnKt3q5yydw",
        "outputId": "b7bde74a-8c3a-46ba-9c2f-d94a9dd07912"
      },
      "source": [
        "np.linspace(0, 2, 9)"
      ],
      "execution_count": null,
      "outputs": [
        {
          "output_type": "execute_result",
          "data": {
            "text/plain": [
              "array([0.  , 0.25, 0.5 , 0.75, 1.  , 1.25, 1.5 , 1.75, 2.  ])"
            ]
          },
          "metadata": {},
          "execution_count": 80
        }
      ]
    },
    {
      "cell_type": "markdown",
      "metadata": {
        "id": "_ywPDM41f5t5"
      },
      "source": [
        "Note that the endpoint is **inclusive** in `np.linspace` by default. \\\\\n",
        "We can optionally exclude the endpoint of the interval by passing an extra parameter as follows:"
      ]
    },
    {
      "cell_type": "code",
      "metadata": {
        "colab": {
          "base_uri": "https://localhost:8080/"
        },
        "id": "ctEojM8ggiSV",
        "outputId": "12849b3c-1c31-4a4c-a238-a61283c14362"
      },
      "source": [
        "np.linspace(0, 2, 9, endpoint=False)"
      ],
      "execution_count": null,
      "outputs": [
        {
          "output_type": "execute_result",
          "data": {
            "text/plain": [
              "array([0.        , 0.22222222, 0.44444444, 0.66666667, 0.88888889,\n",
              "       1.11111111, 1.33333333, 1.55555556, 1.77777778])"
            ]
          },
          "metadata": {},
          "execution_count": 81
        }
      ]
    },
    {
      "cell_type": "markdown",
      "metadata": {
        "id": "cHnukPo1c0sY"
      },
      "source": [
        "**Exercise**: Create a sequence of 30 evenly spaced values from 0 to 2$\\pi$. \\\\\n",
        "Hint: Which function would be more helpful here?"
      ]
    },
    {
      "cell_type": "code",
      "metadata": {
        "id": "5rx62wfcdEKX",
        "colab": {
          "base_uri": "https://localhost:8080/"
        },
        "outputId": "f74fbc3f-fe54-4252-c795-48a58b05a6c8"
      },
      "source": [
        "from numpy import pi\n",
        "### Type your answer here ###\n",
        "np.linspace(0, 2 *pi, 30)"
      ],
      "execution_count": null,
      "outputs": [
        {
          "output_type": "execute_result",
          "data": {
            "text/plain": [
              "array([0.        , 0.21666156, 0.43332312, 0.64998469, 0.86664625,\n",
              "       1.08330781, 1.29996937, 1.51663094, 1.7332925 , 1.94995406,\n",
              "       2.16661562, 2.38327719, 2.59993875, 2.81660031, 3.03326187,\n",
              "       3.24992343, 3.466585  , 3.68324656, 3.89990812, 4.11656968,\n",
              "       4.33323125, 4.54989281, 4.76655437, 4.98321593, 5.1998775 ,\n",
              "       5.41653906, 5.63320062, 5.84986218, 6.06652374, 6.28318531])"
            ]
          },
          "metadata": {},
          "execution_count": 82
        }
      ]
    },
    {
      "cell_type": "markdown",
      "metadata": {
        "id": "sbQGX1-xluf6"
      },
      "source": [
        "# Conditionally selecting elements\n",
        "When we index arrays with arrays of (integer) indices we are providing the list of indices to pick. With boolean indices the approach is different; we explicitly choose which items in the array we want and which ones we don’t.\n",
        "\n",
        "The most natural way one can think of for boolean indexing is to use boolean arrays that have the same shape as the original array:"
      ]
    },
    {
      "cell_type": "code",
      "metadata": {
        "colab": {
          "base_uri": "https://localhost:8080/"
        },
        "id": "5EYErnXCk7fG",
        "outputId": "0ae38c58-7655-4502-bf8b-290f861ee9d4"
      },
      "source": [
        "# check which elements are greater than or equal to 50\n",
        "arr7 = np.array([[70, 20, 60], [50, 40, 30]])\n",
        "arr7_res = arr7 < 35\n",
        "x = 5\n",
        "y = x < 6\n",
        "y\n",
        "# reponse here"
      ],
      "execution_count": null,
      "outputs": [
        {
          "output_type": "execute_result",
          "data": {
            "text/plain": [
              "True"
            ]
          },
          "metadata": {},
          "execution_count": 88
        }
      ]
    },
    {
      "cell_type": "code",
      "metadata": {
        "colab": {
          "base_uri": "https://localhost:8080/"
        },
        "id": "AoX05e4nlp5v",
        "outputId": "aa52aab8-ef86-4a2e-fa95-cfedd50ad193"
      },
      "source": [
        "arr7[arr7_res]   # 1d array with the selected elements"
      ],
      "execution_count": null,
      "outputs": [
        {
          "output_type": "execute_result",
          "data": {
            "text/plain": [
              "array([20, 30])"
            ]
          },
          "metadata": {},
          "execution_count": 86
        }
      ]
    },
    {
      "cell_type": "markdown",
      "metadata": {
        "id": "9YZQAaBLv1HE"
      },
      "source": [
        "**Exercise**: Select all the elements in `arr7` that are divisible by 20 and store them in `ex4`."
      ]
    },
    {
      "cell_type": "code",
      "metadata": {
        "id": "BPpYZRzdpsQo"
      },
      "source": [
        "### Type your answer here ###\n"
      ],
      "execution_count": null,
      "outputs": []
    },
    {
      "cell_type": "markdown",
      "metadata": {
        "id": "azgoobLEJfxU"
      },
      "source": [
        "# **Implementing the Softmax function from scratch**"
      ]
    },
    {
      "cell_type": "markdown",
      "metadata": {
        "id": "Hfo7992ldI1e"
      },
      "source": [
        "\n",
        "![image.png](data:image/png;base64,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)\n",
        "\n"
      ]
    },
    {
      "cell_type": "code",
      "metadata": {
        "id": "jDbDOK5EcmsS"
      },
      "source": [
        "def softmax(arr): #arr is the input array\n",
        "  #TODO: write the softmax function\n",
        "  exponent = np.exp(arr)\n",
        "  arr_sum = exponent.sum()\n",
        "\n",
        "  return exponent / arr_sum"
      ],
      "execution_count": null,
      "outputs": []
    },
    {
      "cell_type": "code",
      "metadata": {
        "colab": {
          "base_uri": "https://localhost:8080/"
        },
        "id": "Ta-QsDwpem1x",
        "outputId": "f0278c39-6627-4465-9bf3-a8aadb46b308"
      },
      "source": [
        "softmax(np.array([1, 2, 3, 4]))"
      ],
      "execution_count": null,
      "outputs": [
        {
          "output_type": "execute_result",
          "data": {
            "text/plain": [
              "array([0.0320586 , 0.08714432, 0.23688282, 0.64391426])"
            ]
          },
          "metadata": {},
          "execution_count": 84
        }
      ]
    },
    {
      "cell_type": "markdown",
      "metadata": {
        "id": "qvvft-8qr1OK"
      },
      "source": [
        "*italicized text*### *How does Tinder implement nearest neighbors?*\n",
        "**Try it yourself using NumPy**\n",
        "![search_radius.png](data:image/png;base64,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)"
      ]
    }
  ]
}